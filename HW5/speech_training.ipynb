{
 "cells": [
  {
   "cell_type": "markdown",
   "id": "b817c33f",
   "metadata": {},
   "source": [
    "<small>\n",
    "!/usr/bin/env python\n",
    " coding: utf-8\n",
    "\n",
    "Basic Steps\n",
    "\n",
    "1. Run a baseline training script to build a speech commands model.\n",
    "2. Add in your custom word to the training and test/validation sets.\n",
    "   - Modify labels, shape of your output tensor in the model.\n",
    "   - Make sure that feature extractor for the model aligns with the feature extractor \n",
    "     used in the arduino code.\n",
    "3. Re-train model. => TF Model using floating-point numbers, that recognizes Google word and custom word.\n",
    "4. Quantize the model and convert to TFlite. => keyword_model.tflite file\n",
    "5. Convert tflite to .c file, using xxd => model_data.cc\n",
    "6. Replace contents of existing micro_features_model.cpp with output of xxd.\n",
    "\n",
    "All of the above steps are done in this notebook for the commands 'left', 'right'.\n",
    "\n",
    "7. In micro_speech.ino, modify micro_op_resolver (around line 80) to add any necessary operations (DIFF_FROM_LECTURE)\n",
    "8. In micro_features_model_settings.h, modify kSilenceIndex and kUnknownIndex, depending on where you have them in commands.  \n",
    "   - Commands = ['left', 'right', '_silence', '_unknown'] => kSilenceIndex=2, kUnknownIndex=3\n",
    "9. In micro_features_model_settings.cpp, modify kCategoryLabels to correspond to commands in this script.\n",
    "10. In micro_features_micro_model_settings.h, set kFeatureSliceDurationMs, kFeatureSliceStrideMs to match what is passed to microfrontend as window_size, window_step, respectively.\n",
    "11. Rebuild Arduino program, run it, recognize the two target words.\n",
    "12. Experiment with model architecture, training parameters/methods, augmentation, more data-gathering, etc.\n",
    " \n",
    "\n",
    "You can download the data set with this command line (or just a browser):\n",
    " \n",
    "`wget http://download.tensorflow.org/data/speech_commands_v0.02.tar.gz `</small>\n"
   ]
  },
  {
   "cell_type": "code",
   "execution_count": 1,
   "id": "6a3b460a",
   "metadata": {},
   "outputs": [],
   "source": [
    "def in_notebook():\n",
    "  \"\"\"\n",
    "  Test if we are in a python script vs jupyter notebook.\n",
    "  Returns True if called in a jupyter notebook, false if called in a standard python file\n",
    "  taken from https://stackoverflow.com/questions/15411967/how-can-i-check-if-code-is-executed-in-the-ipython-notebook\n",
    "  \"\"\"\n",
    "  import __main__ as main\n",
    "  return not hasattr(main, '__file__')"
   ]
  },
  {
   "cell_type": "code",
   "execution_count": 45,
   "id": "38baccf6-3ecb-430a-9360-1d0a03f06a48",
   "metadata": {},
   "outputs": [
    {
     "name": "stdout",
     "output_type": "stream",
     "text": [
      "2.10.0\n",
      "1\n",
      "2\n",
      "3\n",
      "4\n",
      "5\n",
      "6\n",
      "7\n",
      "8\n",
      "9\n",
      "10\n"
     ]
    }
   ],
   "source": [
    "# TensorFlow and tf.keras\n",
    "import tensorflow as tf\n",
    "from tensorflow.keras import Input, layers\n",
    "from tensorflow.keras import models\n",
    "from tensorflow.keras.layers.experimental import preprocessing\n",
    "from tensorflow.lite.experimental.microfrontend.python.ops import audio_microfrontend_op as frontend_op\n",
    "print(tf.__version__)\n",
    "\n",
    "# Helper libraries\n",
    "import numpy as np\n",
    "import random\n",
    "import matplotlib.pyplot as plt\n",
    "import seaborn as sns\n",
    "import time\n",
    "\n",
    "if in_notebook:\n",
    "  from tqdm.notebook import tqdm\n",
    "else:\n",
    "  from tqdm import tqdm \n",
    "\n",
    "import os\n",
    "import pathlib\n",
    "\n",
    "from datetime import datetime as dt\n",
    "\n",
    "from IPython import display\n",
    "\n",
    "import platform\n",
    "\n",
    "\n",
    "# Future Aidan: The model overfits like a mf, tune model complexity or balance dataset (look into silence & unknown classes)\n",
    "# Target Custom Word is lean"
   ]
  },
  {
   "cell_type": "code",
   "execution_count": 3,
   "id": "8134d82b-6961-42be-9f19-11a2f06ecd6f",
   "metadata": {},
   "outputs": [],
   "source": [
    "# Set seed for experiment reproducibility\n",
    "seed = 42\n",
    "tf.random.set_seed(seed)\n",
    "np.random.seed(seed)"
   ]
  },
  {
   "cell_type": "code",
   "execution_count": 4,
   "id": "2c447510-aabb-4b94-aa4b-5d96cca20465",
   "metadata": {},
   "outputs": [
    {
     "name": "stdout",
     "output_type": "stream",
     "text": [
      "FFT window length = 1024\n"
     ]
    }
   ],
   "source": [
    "# Define range of 16-bit integers\n",
    "i16min = -2**15\n",
    "i16max = 2**15-1\n",
    "fsamp = 16000 # sampling rate\n",
    "wave_length_ms = 1000 # 1000 => 1 sec of audio\n",
    "wave_length_samps = int(wave_length_ms*fsamp/1000)\n",
    "\n",
    "# you can change these next three\n",
    "window_size_ms = 64 \n",
    "window_step_ms = 48\n",
    "num_filters = 32\n",
    "batch_size = 32\n",
    "use_microfrontend = True # recommended, but you can use another feature extractor if you like\n",
    "\n",
    "## uncomment exactly one of these \n",
    "dataset = 'mini-speech'\n",
    "# dataset = 'full-speech-files' # use the full speech commands stored as files \n",
    "\n",
    "# Custom word - Lean\n",
    "\n",
    "commands = ['up', 'down'] ## Change this line for your custom keywords\n",
    "\n",
    "# limit the instances of each command in the training set to simulate limited data\n",
    "limit_positive_samples = True\n",
    "max_wavs_0 = 200  # use no more than ~ samples of commands[0]\n",
    "max_wavs_1 = 200  # use no more than ~ samples of commands[1]\n",
    "\n",
    "silence_str = \"_silence\"  # label for <no speech detected>\n",
    "unknown_str = \"_unknown\"  # label for <speech detected but not one of the target words>\n",
    "EPOCHS = 2\n",
    "\n",
    "print(f\"FFT window length = {int(window_size_ms * fsamp / 1000)}\")\n",
    "\n",
    "might_be = {True:\"IS\", False:\"IS NOT\"} # useful for formatting conditional sentences\n",
    "\n",
    "# Apply the frontend to an example signal.\n"
   ]
  },
  {
   "cell_type": "code",
   "execution_count": 5,
   "id": "963529df-f90e-4992-a956-dfe2c56be580",
   "metadata": {},
   "outputs": [],
   "source": [
    "if dataset == 'mini-speech':\n",
    "  data_dir = pathlib.Path(os.path.join(os.getenv(\"USERPROFILE\"), 'Desktop/UNCC/Github/ML-for-IoT/HW5/data/mini_speech_commands'))\n",
    "  if not data_dir.exists():\n",
    "    tf.keras.utils.get_file('mini_speech_commands.zip',\n",
    "          origin=\"http://storage.googleapis.com/download.tensorflow.org/data/mini_speech_commands.zip\",\n",
    "          extract=True, cache_dir='.', cache_subdir='data'\n",
    "                           )\n",
    "  # commands = np.array(tf.io.gfile.listdir(str(data_dir))) # if you want to use all the command words\n",
    "  # commands = commands[commands != 'README.md']\n",
    "elif dataset == 'full-speech-files':\n",
    "  # data_dir = '/dfs/org/Holleman-Coursework/data/speech_dataset'\n",
    "  data_dir = pathlib.Path(os.path.join(os.getenv(\"USERPROFILE\"), 'Desktop/UNCC/Github/ML-for-IoT/HW5/data', 'speech_commands_files_0.2'))\n",
    "else:\n",
    "  raise RuntimeError('dataset should either be \"mini-speech\" or \"full-speech-files\"')"
   ]
  },
  {
   "cell_type": "code",
   "execution_count": 6,
   "id": "aa1e4231-c4c5-4c8f-9f2a-6116bc535b8c",
   "metadata": {},
   "outputs": [
    {
     "data": {
      "text/plain": [
       "WindowsPath('C:/Users/aidan_000/Desktop/UNCC/Github/ML-for-IoT/HW5/data/mini_speech_commands')"
      ]
     },
     "execution_count": 6,
     "metadata": {},
     "output_type": "execute_result"
    }
   ],
   "source": [
    "data_dir"
   ]
  },
  {
   "cell_type": "code",
   "execution_count": 7,
   "id": "c4916543-e74d-4bda-b708-97e3ae0df786",
   "metadata": {},
   "outputs": [
    {
     "name": "stdout",
     "output_type": "stream",
     "text": [
      "label_list: ['_silence', '_unknown', 'down', 'up']\n"
     ]
    }
   ],
   "source": [
    "label_list = commands.copy()\n",
    "label_list.insert(0, silence_str)\n",
    "label_list.insert(1, unknown_str)\n",
    "print('label_list:', label_list)"
   ]
  },
  {
   "cell_type": "code",
   "execution_count": 8,
   "id": "7a26d5c9-08ff-4f4f-8d41-56a1dd3cb37e",
   "metadata": {},
   "outputs": [
    {
     "name": "stdout",
     "output_type": "stream",
     "text": [
      "Number of total examples: 8000\n",
      "Example file tensor: tf.Tensor(b'C:\\\\Users\\\\aidan_000\\\\Desktop\\\\UNCC\\\\Github\\\\ML-for-IoT\\\\HW5\\\\data\\\\mini_speech_commands\\\\right\\\\b5d1e505_nohash_0.wav', shape=(), dtype=string)\n"
     ]
    }
   ],
   "source": [
    "if dataset == 'mini-speech' or dataset == 'full-speech-files':\n",
    "    # filenames = tf.io.gfile.glob(str(data_dir) + '/*/*.wav') \n",
    "    # filenames = tf.io.gfile.glob(str(data_dir) + os.sep + '*' + '/' + '*.wav')\n",
    "    filenames = tf.io.gfile.glob(os.path.join(str(data_dir), '*', '*.wav'))\n",
    "    \n",
    "    # with the next commented-out line, you can choose only files for words in label_list\n",
    "    # filenames = tf.concat([tf.io.gfile.glob(str(data_dir) + '/' + cmd + '/*') for cmd in label_list], 0)\n",
    "    filenames = tf.random.shuffle(filenames)\n",
    "    num_samples = len(filenames)\n",
    "    print('Number of total examples:', num_samples)\n",
    "    # print('Number of examples per label:',\n",
    "    #       len(tf.io.gfile.listdir(str(data_dir/commands[0]))))\n",
    "    print('Example file tensor:', filenames[0])"
   ]
  },
  {
   "cell_type": "code",
   "execution_count": 9,
   "id": "61697bf2-eb96-478b-b22b-646d98a92ef7",
   "metadata": {},
   "outputs": [],
   "source": [
    "# Not really necessary, but just look at a few of the files to make sure that \n",
    "# they're the correct files, shuffled, etc.\n",
    "\n",
    "# for i in range(10):\n",
    "#     print(filenames[i].numpy().decode('utf8'))"
   ]
  },
  {
   "cell_type": "code",
   "execution_count": 10,
   "id": "b7145dab-a29b-47eb-b873-28b7e7a0571c",
   "metadata": {},
   "outputs": [
    {
     "name": "stdout",
     "output_type": "stream",
     "text": [
      "Using mini-speech\n",
      "Training set size 6400\n",
      "Validation set size 800\n",
      "Test set size 800\n"
     ]
    }
   ],
   "source": [
    "if dataset == 'mini-speech':\n",
    "  print('Using mini-speech')\n",
    "  num_train_files = int(0.8*num_samples) \n",
    "  num_val_files = int(0.1*num_samples) \n",
    "  num_test_files = num_samples - num_train_files - num_val_files\n",
    "  train_files = filenames[:num_train_files]\n",
    "  val_files = filenames[num_train_files: num_train_files + num_val_files]\n",
    "  test_files = filenames[-num_test_files:]\n",
    "elif dataset == 'full-speech-files':  \n",
    "  # the full speech-commands set lists which files are to be used\n",
    "  # as test and validation data; train with everything else\n",
    "  fname_val_files = os.path.join(data_dir, 'validation_list.txt')    \n",
    "  with open(fname_val_files) as fpi_val:\n",
    "    val_files = fpi_val.read().splitlines()\n",
    "  # validation_list.txt only lists partial paths\n",
    "  val_files = [os.path.join(data_dir, fn) for fn in val_files]\n",
    "  fname_test_files = os.path.join(data_dir, 'testing_list.txt')\n",
    "  with open(fname_test_files) as fpi_tst:\n",
    "    test_files = fpi_tst.read().splitlines()\n",
    "  # testing_list.txt only lists partial paths\n",
    "  test_files = [os.path.join(data_dir, fn).rstrip() for fn in test_files]    \n",
    "    \n",
    "  if os.sep != '/': \n",
    "    # the files validation_list.txt and testing_list.txt use '/' as path separator\n",
    "    # if we're on a windows machine, replace the '/' with the correct separator\n",
    "    val_files = [fn.replace('/', os.sep) for fn in val_files]\n",
    "    test_files = [fn.replace('/', os.sep) for fn in test_files] \n",
    "\n",
    "  # convert the TF tensor filenames into an array of strings so we can use basic python constructs\n",
    "  train_files = [f.decode('utf8') for f in filenames.numpy()]\n",
    "  # don't train with the _background_noise_ files; exclude when directory name starts with '_'\n",
    "  train_files = [f for f in train_files if f.split(os.sep)[-2][0] != '_']\n",
    "  # validation and test files are listed explicitly in *_list.txt; train with everything else\n",
    "  train_files = list(set(train_files) - set(test_files) - set(val_files))\n",
    "   \n",
    "elif dataset == 'full-speech-ds':  \n",
    "    print(\"Using full-speech-ds. This is in progress.  Good luck!\")\n",
    "else:\n",
    "  raise ValueError(\"dataset must be either full-speech-files, full-speech-ds or mini-speech\")\n",
    "print('Training set size', len(train_files))\n",
    "print('Validation set size', len(val_files))\n",
    "print('Test set size', len(test_files))"
   ]
  },
  {
   "cell_type": "code",
   "execution_count": 11,
   "id": "430b3fdf-01ae-44d7-a9c5-4a366c7ee9b6",
   "metadata": {},
   "outputs": [],
   "source": [
    "if limit_positive_samples:\n",
    "  train_files = list(train_files)\n",
    "  random.shuffle(train_files)\n",
    "  num_files_cmd0 = 0\n",
    "  num_files_cmd1 = 0\n",
    "  # elements of train_files look like this:\n",
    "  # '/path/to/data/speech_commands_0_2_root/right/196e84b7_nohash_0.wav'\n",
    "  # so if we split on '/' (or '\\' in windows), the 2nd to last element is the label\n",
    "  \n",
    "  for idx,f in enumerate(train_files):\n",
    "    if f.numpy().decode('utf-8').split(os.sep)[-2] == commands[0]:\n",
    "      if num_files_cmd0 >= max_wavs_0:\n",
    "        train_files.pop(idx)\n",
    "      else:\n",
    "        num_files_cmd0 += 1\n",
    "    elif f.numpy().decode('utf-8').split(os.sep)[-2] == commands[1]:\n",
    "      if num_files_cmd1 >= max_wavs_1:\n",
    "        train_files.pop(idx)\n",
    "      else:\n",
    "        num_files_cmd1 += 1"
   ]
  },
  {
   "cell_type": "code",
   "execution_count": 12,
   "id": "585a9638-e07b-4794-a3ce-4e2e213770e5",
   "metadata": {},
   "outputs": [
    {
     "name": "stdout",
     "output_type": "stream",
     "text": [
      "[<tf.Tensor: shape=(), dtype=string, numpy=b'C:\\\\Users\\\\aidan_000\\\\Desktop\\\\UNCC\\\\Github\\\\ML-for-IoT\\\\HW5\\\\data\\\\mini_speech_commands\\\\up\\\\b71ebf79_nohash_2.wav'>, <tf.Tensor: shape=(), dtype=string, numpy=b'C:\\\\Users\\\\aidan_000\\\\Desktop\\\\UNCC\\\\Github\\\\ML-for-IoT\\\\HW5\\\\data\\\\mini_speech_commands\\\\stop\\\\97101ef3_nohash_0.wav'>, <tf.Tensor: shape=(), dtype=string, numpy=b'C:\\\\Users\\\\aidan_000\\\\Desktop\\\\UNCC\\\\Github\\\\ML-for-IoT\\\\HW5\\\\data\\\\mini_speech_commands\\\\right\\\\a4c938ce_nohash_0.wav'>, <tf.Tensor: shape=(), dtype=string, numpy=b'C:\\\\Users\\\\aidan_000\\\\Desktop\\\\UNCC\\\\Github\\\\ML-for-IoT\\\\HW5\\\\data\\\\mini_speech_commands\\\\no\\\\824e8ce5_nohash_0.wav'>, <tf.Tensor: shape=(), dtype=string, numpy=b'C:\\\\Users\\\\aidan_000\\\\Desktop\\\\UNCC\\\\Github\\\\ML-for-IoT\\\\HW5\\\\data\\\\mini_speech_commands\\\\up\\\\7de97453_nohash_0.wav'>]\n",
      "tf.Tensor(\n",
      "[b'C:\\\\Users\\\\aidan_000\\\\Desktop\\\\UNCC\\\\Github\\\\ML-for-IoT\\\\HW5\\\\data\\\\mini_speech_commands\\\\down\\\\7e2d5caf_nohash_0.wav'\n",
      " b'C:\\\\Users\\\\aidan_000\\\\Desktop\\\\UNCC\\\\Github\\\\ML-for-IoT\\\\HW5\\\\data\\\\mini_speech_commands\\\\right\\\\4634529e_nohash_0.wav'\n",
      " b'C:\\\\Users\\\\aidan_000\\\\Desktop\\\\UNCC\\\\Github\\\\ML-for-IoT\\\\HW5\\\\data\\\\mini_speech_commands\\\\up\\\\9f869f70_nohash_1.wav'\n",
      " b'C:\\\\Users\\\\aidan_000\\\\Desktop\\\\UNCC\\\\Github\\\\ML-for-IoT\\\\HW5\\\\data\\\\mini_speech_commands\\\\go\\\\11860c84_nohash_0.wav'\n",
      " b'C:\\\\Users\\\\aidan_000\\\\Desktop\\\\UNCC\\\\Github\\\\ML-for-IoT\\\\HW5\\\\data\\\\mini_speech_commands\\\\right\\\\471a0925_nohash_3.wav'], shape=(5,), dtype=string)\n",
      "tf.Tensor(\n",
      "[b'C:\\\\Users\\\\aidan_000\\\\Desktop\\\\UNCC\\\\Github\\\\ML-for-IoT\\\\HW5\\\\data\\\\mini_speech_commands\\\\down\\\\39543cfd_nohash_1.wav'\n",
      " b'C:\\\\Users\\\\aidan_000\\\\Desktop\\\\UNCC\\\\Github\\\\ML-for-IoT\\\\HW5\\\\data\\\\mini_speech_commands\\\\left\\\\d2eae23d_nohash_0.wav'\n",
      " b'C:\\\\Users\\\\aidan_000\\\\Desktop\\\\UNCC\\\\Github\\\\ML-for-IoT\\\\HW5\\\\data\\\\mini_speech_commands\\\\go\\\\742d6431_nohash_3.wav'\n",
      " b'C:\\\\Users\\\\aidan_000\\\\Desktop\\\\UNCC\\\\Github\\\\ML-for-IoT\\\\HW5\\\\data\\\\mini_speech_commands\\\\down\\\\f953e1af_nohash_4.wav'\n",
      " b'C:\\\\Users\\\\aidan_000\\\\Desktop\\\\UNCC\\\\Github\\\\ML-for-IoT\\\\HW5\\\\data\\\\mini_speech_commands\\\\no\\\\39a12648_nohash_1.wav'], shape=(5,), dtype=string)\n"
     ]
    }
   ],
   "source": [
    "print(train_files[:5])\n",
    "print(val_files[:5])\n",
    "print(test_files[:5])"
   ]
  },
  {
   "cell_type": "code",
   "execution_count": 13,
   "id": "a8128d07-a5ba-4a50-a4f2-9e635919719a",
   "metadata": {},
   "outputs": [],
   "source": [
    "def decode_audio(audio_binary):\n",
    "  audio, _ = tf.audio.decode_wav(audio_binary)\n",
    "  return tf.squeeze(audio, axis=-1)"
   ]
  },
  {
   "cell_type": "code",
   "execution_count": 14,
   "id": "2852cd87-2ca3-4a56-af11-f2a7500edcf2",
   "metadata": {},
   "outputs": [],
   "source": [
    "def get_label(file_path):\n",
    "  parts = tf.strings.split(file_path, os.path.sep)\n",
    "  in_set = tf.reduce_any(parts[-2] == label_list)\n",
    "  label = tf.cond(in_set, lambda: parts[-2], lambda: tf.constant(unknown_str))\n",
    "  # print(f\"parts[-2] = {parts[-2]}, in_set = {in_set}, label = {label}\")\n",
    "  # Note: You'll use indexing here instead of tuple unpacking to enable this \n",
    "  # to work in a TensorFlow graph.\n",
    "  return  label # parts[-2]"
   ]
  },
  {
   "cell_type": "code",
   "execution_count": 15,
   "id": "e9bc0fe4-7056-46d8-b305-4256ad03afeb",
   "metadata": {},
   "outputs": [],
   "source": [
    "def get_waveform_and_label(file_path):\n",
    "  label = get_label(file_path)\n",
    "  audio_binary = tf.io.read_file(file_path)\n",
    "  waveform = decode_audio(audio_binary)\n",
    "  return waveform, label"
   ]
  },
  {
   "cell_type": "code",
   "execution_count": 16,
   "id": "c14e56c5-23e4-48f0-bbfb-a79516d853c5",
   "metadata": {},
   "outputs": [],
   "source": [
    "def get_spectrogram(waveform):\n",
    "  # Concatenate audio with padding so that all audio clips will be of the \n",
    "  # same length (16000 samples)\n",
    "  zero_padding = tf.zeros([wave_length_samps] - tf.shape(waveform), dtype=tf.int16)\n",
    "  waveform = tf.cast(0.5*waveform*(i16max-i16min), tf.int16)  # scale float [-1,+1]=>INT16\n",
    "  equal_length = tf.concat([waveform, zero_padding], 0)\n",
    "  ## Make sure these labels correspond to those used in micro_features_micro_features_generator.cpp\n",
    "  spectrogram = frontend_op.audio_microfrontend(equal_length, sample_rate=fsamp, num_channels=num_filters,\n",
    "                                    window_size=window_size_ms, window_step=window_step_ms)\n",
    "  return spectrogram\n",
    "\n",
    "# Function to convert each waveform in a set into a spectrogram, then convert those\n",
    "# back into a dataset using `from_tensor_slices`.  (We should be able to use \n",
    "# `wav_ds.map(get_spectrogram_and_label_id)`, but there is a problem with that process)."
   ]
  },
  {
   "cell_type": "code",
   "execution_count": 17,
   "id": "a610028c-f48c-4b24-a767-74171b4de33f",
   "metadata": {},
   "outputs": [],
   "source": [
    "def create_silence_dataset(num_waves, samples_per_wave, rms_noise_range=[0.01,0.2], silent_label=silence_str):\n",
    "    # create num_waves waveforms of white gaussian noise, with rms level drawn from rms_noise_range\n",
    "    # to act as the \"silence\" dataset\n",
    "    rng = np.random.default_rng()\n",
    "    rms_noise_levels = rng.uniform(low=rms_noise_range[0], high=rms_noise_range[1], size=num_waves)\n",
    "    rand_waves = np.zeros((num_waves, samples_per_wave), dtype=np.float32) # pre-allocate memory\n",
    "    for i in range(num_waves):\n",
    "        rand_waves[i,:] = rms_noise_levels[i]*rng.standard_normal(samples_per_wave)\n",
    "    labels = [silent_label]*num_waves\n",
    "    return tf.data.Dataset.from_tensor_slices((rand_waves, labels))"
   ]
  },
  {
   "cell_type": "code",
   "execution_count": 18,
   "id": "e3750507-4bc3-4c92-8db0-553affe47c03",
   "metadata": {},
   "outputs": [],
   "source": [
    "def wavds2specds(waveform_ds, verbose=True):\n",
    "  wav, label = next(waveform_ds.as_numpy_iterator())\n",
    "  one_spec = get_spectrogram(wav)\n",
    "  one_spec = tf.expand_dims(one_spec, axis=0)  # add a 'batch' dimension at the front\n",
    "  one_spec = tf.expand_dims(one_spec, axis=-1) # add a singleton 'channel' dimension at the back    \n",
    "\n",
    "  num_waves = 0 # count the waveforms so we can allocate the memory\n",
    "  for wav, label in waveform_ds:\n",
    "    num_waves += 1\n",
    "  print(f\"About to create spectrograms from {num_waves} waves\")\n",
    "  spec_shape = (num_waves,) + one_spec.shape[1:] \n",
    "  spec_grams = np.nan * np.zeros(spec_shape)  # allocate memory\n",
    "  labels = np.nan * np.zeros(num_waves)\n",
    "  idx = 0\n",
    "  for wav, label in waveform_ds:    \n",
    "    if verbose and idx % 250 == 0:\n",
    "      print(f\"\\r {idx} wavs processed\", end='')\n",
    "    spectrogram = get_spectrogram(wav)\n",
    "    # TF conv layer expect inputs structured as 4D (batch_size, height, width, channels)\n",
    "    # the microfrontend returns 2D tensors (freq, time), so we need to \n",
    "    spectrogram = tf.expand_dims(spectrogram, axis=0)  # add a 'batch' dimension at the front\n",
    "    spectrogram = tf.expand_dims(spectrogram, axis=-1) # add a singleton 'channel' dimension at the back\n",
    "    spec_grams[idx, ...] = spectrogram\n",
    "    new_label = label.numpy().decode('utf8')\n",
    "    new_label_id = np.argmax(new_label == np.array(label_list))    \n",
    "    labels[idx] = new_label_id # for numeric labels\n",
    "    # labels.append(new_label) # for string labels\n",
    "    idx += 1\n",
    "  labels = np.array(labels, dtype=int)\n",
    "  output_ds = tf.data.Dataset.from_tensor_slices((spec_grams, labels))\n",
    "  return output_ds"
   ]
  },
  {
   "cell_type": "code",
   "execution_count": 19,
   "id": "1fb97851-c090-4528-9723-f8e44b47d2c4",
   "metadata": {},
   "outputs": [
    {
     "name": "stdout",
     "output_type": "stream",
     "text": [
      "About to create spectrograms from 5448 waves\n",
      " 5250 wavs processed"
     ]
    }
   ],
   "source": [
    "AUTOTUNE = tf.data.experimental.AUTOTUNE\n",
    "num_train_files = len(train_files)\n",
    "files_ds = tf.data.Dataset.from_tensor_slices(train_files)\n",
    "waveform_ds = files_ds.map(get_waveform_and_label, num_parallel_calls=AUTOTUNE)\n",
    "train_ds = wavds2specds(waveform_ds)"
   ]
  },
  {
   "cell_type": "code",
   "execution_count": 20,
   "id": "8ece84dd-3b49-426d-bde4-6292b0c3c320",
   "metadata": {},
   "outputs": [],
   "source": [
    "def copy_with_noise(ds_input, rms_level=0.25):\n",
    "  rng = tf.random.Generator.from_seed(1234)\n",
    "  wave_shape = tf.constant((wave_length_samps,))\n",
    "  def add_noise(waveform, label):\n",
    "    noise = rms_level*rng.normal(shape=wave_shape)\n",
    "    zero_padding = tf.zeros([wave_length_samps] - tf.shape(waveform), dtype=tf.float32)\n",
    "    waveform = tf.concat([waveform, zero_padding], 0)    \n",
    "    noisy_wave = waveform + noise\n",
    "    return noisy_wave, label\n",
    "\n",
    "  return ds_input.map(add_noise)"
   ]
  },
  {
   "cell_type": "code",
   "execution_count": 21,
   "id": "5fda62a5-e3bc-41dd-b194-63d4e4660443",
   "metadata": {},
   "outputs": [],
   "source": [
    "def pad_16000(waveform, label):\n",
    "    zero_padding = tf.zeros([wave_length_samps] - tf.shape(waveform), dtype=tf.float32)\n",
    "    waveform = tf.concat([waveform, zero_padding], 0)        \n",
    "    return waveform, label"
   ]
  },
  {
   "cell_type": "code",
   "execution_count": 22,
   "id": "40f07bfe-942f-47f9-bcd0-8b6f954a793f",
   "metadata": {},
   "outputs": [],
   "source": [
    "def count_labels(dataset):\n",
    "    counts = {}\n",
    "    for sample in dataset: # sample will be a tuple: (input, label) or (input, label, weight)\n",
    "        lbl = sample[1]\n",
    "        if lbl.dtype == tf.string:\n",
    "            label = lbl.numpy().decode('utf-8')\n",
    "        else:\n",
    "            label = lbl.numpy()\n",
    "        if label in counts:\n",
    "            counts[label] += 1\n",
    "        else:\n",
    "            counts[label] = 1\n",
    "    return counts"
   ]
  },
  {
   "cell_type": "code",
   "execution_count": 23,
   "id": "d272bb70-0bb9-4703-a049-a2f836f6e1b5",
   "metadata": {},
   "outputs": [],
   "source": [
    "def is_batched(ds):\n",
    "    ## This is probably not very robust\n",
    "    try:\n",
    "        ds.unbatch()  # does not actually change ds. For that we would ds=ds.unbatch()\n",
    "    except:\n",
    "        return False # we'll assume that the error on unbatching is because the ds is not batched.\n",
    "    else:\n",
    "        return True  # if we were able to unbatch it then it must have been batched (??)"
   ]
  },
  {
   "cell_type": "code",
   "execution_count": 24,
   "id": "c32630fa-f680-4795-8748-a33ea66fdc38",
   "metadata": {},
   "outputs": [],
   "source": [
    "# Collect what we did to generate the training dataset into a \n",
    "# function, so we can repeat with the validation and test sets.\n",
    "def preprocess_dataset(files, num_silent=None, noisy_reps_of_known=None):\n",
    "  \"\"\"\n",
    "  preprocess_dataset(files, num_silent=None, noisy_reps_of_known=None)\n",
    "  files -- list of files\n",
    "  noisy_reps_of_known either None, or a list of rms noise levels\n",
    "      For every target word in the data set, 1 copy will be created with each level \n",
    "      of noise added to it.  So [0.1, 0.2] will add 2x noisy copies of the target words \n",
    "  \"\"\"\n",
    "  if num_silent is None:\n",
    "    num_silent = int(0.2*len(files))+1\n",
    "  print(f\"Processing {len(files)} files\")\n",
    "  files_ds = tf.data.Dataset.from_tensor_slices(files)\n",
    "  waveform_ds = files_ds.map(get_waveform_and_label)\n",
    "  if noisy_reps_of_known is not None:\n",
    "    # create a few copies of only the target words to balance the distribution\n",
    "    # create a tmp dataset with only the target words\n",
    "    ds_only_cmds = waveform_ds.filter(lambda w,l: tf.reduce_any(l == commands))\n",
    "    for noise_level in noisy_reps_of_known:\n",
    "       waveform_ds = waveform_ds.concatenate(copy_with_noise(ds_only_cmds, rms_level=noise_level))\n",
    "  if num_silent > 0:\n",
    "    silent_wave_ds = create_silence_dataset(num_silent, wave_length_samps, \n",
    "                                            rms_noise_range=[0.01,0.2], \n",
    "                                            silent_label=silence_str)\n",
    "    waveform_ds = waveform_ds.concatenate(silent_wave_ds)\n",
    "  print(f\"Added {num_silent} silent wavs and ?? noisy wavs\")\n",
    "  num_waves = 0\n",
    "  output_ds = wavds2specds(waveform_ds)\n",
    "  return output_ds"
   ]
  },
  {
   "cell_type": "code",
   "execution_count": 25,
   "id": "7bb3cf39-2682-4409-bdb0-32085d347da0",
   "metadata": {},
   "outputs": [
    {
     "name": "stdout",
     "output_type": "stream",
     "text": [
      "We have 5448/800/800 training/validation/test files\n"
     ]
    }
   ],
   "source": [
    "print(f\"We have {len(train_files)}/{len(val_files)}/{len(test_files)} training/validation/test files\")"
   ]
  },
  {
   "cell_type": "code",
   "execution_count": 26,
   "id": "647f9475-5fcf-48f8-89bc-69f11732279a",
   "metadata": {},
   "outputs": [],
   "source": [
    "# train_files = train_files[0:10000] for a quick test run"
   ]
  },
  {
   "cell_type": "code",
   "execution_count": 27,
   "id": "441b80a4-d363-4a44-9c41-ee459981c770",
   "metadata": {},
   "outputs": [
    {
     "name": "stdout",
     "output_type": "stream",
     "text": [
      "Processing 5448 files\n"
     ]
    },
    {
     "name": "stdout",
     "output_type": "stream",
     "text": [
      "Added 1090 silent wavs and ?? noisy wavs\n",
      "About to create spectrograms from 11754 waves\n",
      " 11750 wavs processedProcessing 800 files\n",
      "Added 161 silent wavs and ?? noisy wavs\n",
      "About to create spectrograms from 961 waves\n",
      " 750 wavs processedProcessing 800 files\n",
      "Added 161 silent wavs and ?? noisy wavs\n",
      "About to create spectrograms from 961 waves\n",
      " 750 wavs processedTook time: 63.80494236946106\n"
     ]
    }
   ],
   "source": [
    "t0 = time.time()\n",
    "# train_ds is already done\n",
    "\n",
    "train_ds = preprocess_dataset(train_files, noisy_reps_of_known=[0.05,0.1,0.15,0.2,0.25, .1, .1, .1])\n",
    "\n",
    "val_ds = preprocess_dataset(val_files)\n",
    "test_ds = preprocess_dataset(test_files)\n",
    "t1 = time.time()\n",
    "print(f\"Took time: {t1-t0}\")"
   ]
  },
  {
   "cell_type": "code",
   "execution_count": 28,
   "id": "b84078c4-6e45-4ae7-a95c-747911936113",
   "metadata": {},
   "outputs": [
    {
     "name": "stdout",
     "output_type": "stream",
     "text": [
      "Training dataset label distribution:\n",
      "_unknown: 4796\n",
      "up: 2961\n",
      "down: 2907\n",
      "_silence: 1090\n"
     ]
    }
   ],
   "source": [
    "train_ds = train_ds.shuffle(int(len(train_files)*1.2))\n",
    "val_ds = val_ds.shuffle(int(len(val_files)*1.2))\n",
    "test_ds = test_ds.shuffle(int(len(test_files)*1.2))\n",
    "\n",
    "train_counts = count_labels(train_ds)\n",
    "\n",
    "print(\"Training dataset label distribution:\")\n",
    "for idx in train_counts:\n",
    "    print(f\"{label_list[idx]}: {train_counts[idx]}\")"
   ]
  },
  {
   "cell_type": "code",
   "execution_count": 29,
   "id": "7560aba6-0a00-44f1-9a53-08f72b29ea10",
   "metadata": {},
   "outputs": [],
   "source": [
    "if not is_batched(train_ds):\n",
    "    train_ds = train_ds.batch(batch_size)\n",
    "if not is_batched(val_ds):\n",
    "    val_ds = val_ds.batch(batch_size)\n",
    "if not is_batched(test_ds):\n",
    "    test_ds = test_ds.batch(batch_size)\n",
    "\n",
    "train_ds = train_ds.cache().prefetch(AUTOTUNE)\n",
    "val_ds = val_ds.cache().prefetch(AUTOTUNE)"
   ]
  },
  {
   "cell_type": "code",
   "execution_count": 30,
   "id": "05f4e53f-152e-4f97-8ef6-8521a7510c6a",
   "metadata": {},
   "outputs": [
    {
     "name": "stdout",
     "output_type": "stream",
     "text": [
      "Input shape: (20, 32, 1)\n"
     ]
    }
   ],
   "source": [
    "for spectrogram, _ in train_ds.take(1):\n",
    "  # take(1) takes 1 *batch*, so we have to select the first \n",
    "  # spectrogram from it, hence the [0]\n",
    "  input_shape = spectrogram.shape[1:]  \n",
    "print('Input shape:', input_shape)\n",
    "num_labels = len(label_list)"
   ]
  },
  {
   "cell_type": "code",
   "execution_count": 31,
   "id": "10a14d43-9011-497f-9d23-ce11c9bf5a92",
   "metadata": {},
   "outputs": [],
   "source": [
    "def build_model(input_shape):\n",
    "    model = models.Sequential([\n",
    "        layers.Input(shape=input_shape),\n",
    "        layers.Conv2D(16, 3, activation='relu'), # 32 filters, 3x3 kernel\n",
    "        layers.MaxPooling2D(pool_size=(1,2)),\n",
    "        layers.Dropout(0.1), # Dropout rate of <0.5 for input/output layers\n",
    "        layers.BatchNormalization(),\n",
    "      \n",
    "        layers.Conv2D(32, 3, activation='relu'), # 64 filters, 3x3 kernel\n",
    "        layers.BatchNormalization(),\n",
    "      \n",
    "        layers.Conv2D(64, 3, activation='relu'), # 128 filters, 3x3 kernel\n",
    "        layers.BatchNormalization(),\n",
    "\n",
    "        layers.Conv2D(128, 3, activation='relu'), # 256 filters, 3x3 kernel\n",
    "        layers.BatchNormalization(),\n",
    "\n",
    "        layers.Conv2D(128, 3, activation='relu'), # 256 filters, 3x3 kernel\n",
    "        layers.BatchNormalization(),\n",
    "      \n",
    "        layers.GlobalMaxPooling2D(),\n",
    "        layers.Dropout(0.2),\n",
    "        layers.Dense(num_labels),\n",
    "    ])\n",
    "    model.compile(\n",
    "        optimizer=tf.keras.optimizers.Adam(),\n",
    "        loss=tf.keras.losses.SparseCategoricalCrossentropy(from_logits=True),\n",
    "        metrics=['accuracy'],\n",
    "    )\n",
    "    return model"
   ]
  },
  {
   "cell_type": "code",
   "execution_count": 32,
   "id": "b53b830e-6ef5-4ed2-ac08-b422609d7cf6",
   "metadata": {},
   "outputs": [
    {
     "name": "stdout",
     "output_type": "stream",
     "text": [
      "Input shape: (20, 32, 1)\n",
      "Model: \"sequential\"\n",
      "_________________________________________________________________\n",
      " Layer (type)                Output Shape              Param #   \n",
      "=================================================================\n",
      " conv2d (Conv2D)             (None, 18, 30, 32)        320       \n",
      "                                                                 \n",
      " max_pooling2d (MaxPooling2D  (None, 18, 15, 32)       0         \n",
      " )                                                               \n",
      "                                                                 \n",
      " batch_normalization (BatchN  (None, 18, 15, 32)       128       \n",
      " ormalization)                                                   \n",
      "                                                                 \n",
      " conv2d_1 (Conv2D)           (None, 16, 13, 64)        18496     \n",
      "                                                                 \n",
      " batch_normalization_1 (Batc  (None, 16, 13, 64)       256       \n",
      " hNormalization)                                                 \n",
      "                                                                 \n",
      " conv2d_2 (Conv2D)           (None, 14, 11, 128)       73856     \n",
      "                                                                 \n",
      " batch_normalization_2 (Batc  (None, 14, 11, 128)      512       \n",
      " hNormalization)                                                 \n",
      "                                                                 \n",
      " conv2d_3 (Conv2D)           (None, 12, 9, 256)        295168    \n",
      "                                                                 \n",
      " batch_normalization_3 (Batc  (None, 12, 9, 256)       1024      \n",
      " hNormalization)                                                 \n",
      "                                                                 \n",
      " conv2d_4 (Conv2D)           (None, 10, 7, 256)        590080    \n",
      "                                                                 \n",
      " batch_normalization_4 (Batc  (None, 10, 7, 256)       1024      \n",
      " hNormalization)                                                 \n",
      "                                                                 \n",
      " global_max_pooling2d (Globa  (None, 256)              0         \n",
      " lMaxPooling2D)                                                  \n",
      "                                                                 \n",
      " dense (Dense)               (None, 4)                 1028      \n",
      "                                                                 \n",
      "=================================================================\n",
      "Total params: 981,892\n",
      "Trainable params: 980,420\n",
      "Non-trainable params: 1,472\n",
      "_________________________________________________________________\n"
     ]
    }
   ],
   "source": [
    "print('Input shape:', input_shape)\n",
    "model = build_model(input_shape)\n",
    "model.summary()        "
   ]
  },
  {
   "cell_type": "code",
   "execution_count": 33,
   "id": "7d630965-cf3e-41ca-851b-33de49392cda",
   "metadata": {},
   "outputs": [
    {
     "name": "stdout",
     "output_type": "stream",
     "text": [
      "Epoch 1/2\n",
      "368/368 [==============================] - 3s 7ms/step - loss: 0.4938 - accuracy: 0.8106 - val_loss: 0.6850 - val_accuracy: 0.7617\n",
      "Epoch 2/2\n",
      "368/368 [==============================] - 2s 6ms/step - loss: 0.2179 - accuracy: 0.9225 - val_loss: 0.4289 - val_accuracy: 0.8720\n"
     ]
    }
   ],
   "source": [
    "history = model.fit(\n",
    "    train_ds, \n",
    "    validation_data=val_ds,  \n",
    "    epochs=EPOCHS) "
   ]
  },
  {
   "cell_type": "code",
   "execution_count": 34,
   "id": "2673e263-95e5-4017-89aa-ef15edc9d9c4",
   "metadata": {},
   "outputs": [
    {
     "name": "stdout",
     "output_type": "stream",
     "text": [
      "Completed training at 16apr2024_2237\n"
     ]
    }
   ],
   "source": [
    "date_str = dt.now().strftime(\"%d%b%Y_%H%M\").lower()\n",
    "print(f\"Completed training at {date_str}\")"
   ]
  },
  {
   "cell_type": "code",
   "execution_count": 35,
   "id": "87804c57-0919-4726-88a3-477e4d3dc8d0",
   "metadata": {},
   "outputs": [
    {
     "name": "stdout",
     "output_type": "stream",
     "text": [
      "Saving model to kws_model.h5\n"
     ]
    }
   ],
   "source": [
    "model_file_name = f\"kws_model.h5\" \n",
    "print(f\"Saving model to {model_file_name}\")\n",
    "model.save(model_file_name, overwrite=True)"
   ]
  },
  {
   "cell_type": "code",
   "execution_count": 36,
   "id": "b40f2828-ac56-4cc5-b041-ec34ea8f9e89",
   "metadata": {},
   "outputs": [
    {
     "name": "stdout",
     "output_type": "stream",
     "text": [
      "31/31 [==============================] - 0s 2ms/step\n",
      "Test set accuracy: 86.2%\n"
     ]
    }
   ],
   "source": [
    "## Measure test-set accuracy manually and get values for confusion matrix\n",
    "test_audio = []\n",
    "test_labels = []\n",
    "if is_batched(test_ds):\n",
    "  was_batched=True\n",
    "  test_ds = test_ds.unbatch()\n",
    "else:\n",
    "  was_batched=False\n",
    "for audio, label in test_ds:\n",
    "  test_audio.append(audio.numpy())\n",
    "  test_labels.append(label.numpy())\n",
    "\n",
    "test_audio = np.array(test_audio)\n",
    "test_labels = np.array(test_labels)\n",
    "\n",
    "model_out = model.predict(test_audio)\n",
    "y_pred = np.argmax(model_out, axis=1)\n",
    "y_true = test_labels\n",
    "\n",
    "test_acc = sum(y_pred == y_true) / len(y_true)\n",
    "print(f'Test set accuracy: {test_acc:.1%}')\n",
    "if was_batched:\n",
    "  test_ds = test_ds.batch(32)"
   ]
  },
  {
   "cell_type": "code",
   "execution_count": 37,
   "id": "1977d96d-a20f-4213-8f81-9101bebe1b0e",
   "metadata": {},
   "outputs": [
    {
     "name": "stdout",
     "output_type": "stream",
     "text": [
      "31/31 - 1s - loss: 0.4839 - accuracy: 0.8616 - 858ms/epoch - 28ms/step\n"
     ]
    }
   ],
   "source": [
    "## Measure test-set accuracy with the keras built-in function\n",
    "test_loss, test_acc = model.evaluate(test_ds, verbose=2)"
   ]
  },
  {
   "cell_type": "code",
   "execution_count": 38,
   "id": "379ab7a2-eae3-40ad-bd0a-2ffc0e0a02e1",
   "metadata": {},
   "outputs": [
    {
     "data": {
      "image/png": "[encoded data removed]",
      "text/plain": [
       "<Figure size 600x600 with 2 Axes>"
      ]
     },
     "metadata": {},
     "output_type": "display_data"
    }
   ],
   "source": [
    "confusion_mtx = tf.math.confusion_matrix(y_true, y_pred) \n",
    "plt.figure(figsize=(6, 6))\n",
    "sns.heatmap(confusion_mtx, xticklabels=label_list, yticklabels=label_list, \n",
    "            annot=True, fmt='g')\n",
    "plt.gca().invert_yaxis() # flip so origin is at bottom left\n",
    "plt.xlabel('Prediction')\n",
    "plt.ylabel('Label')\n",
    "plt.show()"
   ]
  },
  {
   "cell_type": "code",
   "execution_count": 39,
   "id": "2677a670-093d-45b9-8ec4-efad861ae088",
   "metadata": {},
   "outputs": [
    {
     "name": "stdout",
     "output_type": "stream",
     "text": [
      "True/False positive rate for '_silence ' = 0.857 / 0.0\n",
      "True/False positive rate for '_unknown ' = 0.963 / 0.24\n",
      "True/False positive rate for 'down     ' = 0.632 / 0.0355\n",
      "True/False positive rate for 'up       ' = 0.471 / 0.0183\n"
     ]
    }
   ],
   "source": [
    "tpr = np.nan*np.zeros(len(label_list))\n",
    "fpr = np.nan*np.zeros(len(label_list))\n",
    "for i in range(4):\n",
    "    tpr[i]  = confusion_mtx[i,i] / np.sum(confusion_mtx[i,:])\n",
    "    fpr[i] = (np.sum(confusion_mtx[:,i]) - confusion_mtx[i,i]) / \\\n",
    "      (np.sum(confusion_mtx) - np.sum(confusion_mtx[i,:]))\n",
    "    print(f\"True/False positive rate for '{label_list[i]:9}' = {tpr[i]:.3} / {fpr[i]:.3}\")"
   ]
  },
  {
   "cell_type": "code",
   "execution_count": 40,
   "id": "8134dd39-a8b6-45bd-a0e2-0f025c461e36",
   "metadata": {},
   "outputs": [],
   "source": [
    "info_file_name = model_file_name.split('.')[0] + '.txt'\n",
    "with open(info_file_name, 'w') as fpo:\n",
    "    fpo.write(f\"i16min            = {i16min           }\\n\")\n",
    "    fpo.write(f\"i16max            = {i16max           }\\n\")\n",
    "    fpo.write(f\"fsamp             = {fsamp            }\\n\")\n",
    "    fpo.write(f\"wave_length_ms    = {wave_length_ms   }\\n\")\n",
    "    fpo.write(f\"wave_length_samps = {wave_length_samps}\\n\")\n",
    "    fpo.write(f\"window_size_ms    = {window_size_ms   }\\n\")\n",
    "    fpo.write(f\"window_step_ms    = {window_step_ms   }\\n\")\n",
    "    fpo.write(f\"num_filters       = {num_filters      }\\n\")\n",
    "    fpo.write(f\"use_microfrontend = {use_microfrontend}\\n\")\n",
    "    fpo.write(f\"label_list        = {label_list}\\n\")\n",
    "    fpo.write(f\"spectrogram_shape = {spectrogram.numpy().shape}\\n\")\n",
    "    fpo.write(f\"Test set accuracy =  {test_acc:.1%}\\n\")\n",
    "    for i in range(4):\n",
    "        fpo.write(f\"tpr_{label_list[i]:9} = {tpr[i]:.3}\\n\")\n",
    "        fpo.write(f\"fpr_{label_list[i]:9} = {fpr[i]:.3}\\n\")"
   ]
  },
  {
   "cell_type": "code",
   "execution_count": 41,
   "id": "61dc3596-f01b-423b-b02c-c121fd3cfba1",
   "metadata": {},
   "outputs": [
    {
     "name": "stdout",
     "output_type": "stream",
     "text": [
      "Wrote description to kws_model.txt\n"
     ]
    }
   ],
   "source": [
    "print(f\"Wrote description to {info_file_name}\")"
   ]
  },
  {
   "cell_type": "code",
   "execution_count": 42,
   "id": "6d948d40-b6b0-4338-bc25-df52d37c7db7",
   "metadata": {},
   "outputs": [
    {
     "data": {
      "image/png": "[encoded data removed]",
      "text/plain": [
       "<Figure size 640x480 with 2 Axes>"
      ]
     },
     "metadata": {},
     "output_type": "display_data"
    },
    {
     "data": {
      "text/plain": [
       "<Figure size 640x480 with 0 Axes>"
      ]
     },
     "metadata": {},
     "output_type": "display_data"
    }
   ],
   "source": [
    "metrics = history.history\n",
    "plt.subplot(2,1,1)\n",
    "plt.semilogy(history.epoch, metrics['loss'], metrics['val_loss'])\n",
    "plt.legend(['training', 'validation'])\n",
    "plt.ylabel('Loss')\n",
    "plt.xlabel('Epoch')\n",
    "plt.subplot(2,1,2)\n",
    "plt.plot(history.epoch, metrics['accuracy'], metrics['val_accuracy'])\n",
    "plt.legend(['training', 'validation'])\n",
    "plt.ylabel('Accuracy')\n",
    "plt.xlabel('Epoch')\n",
    "plt.show()\n",
    "plt.savefig('training_curves.png')"
   ]
  },
  {
   "cell_type": "code",
   "execution_count": 43,
   "id": "4c3f0739-1419-4ba4-9a8c-b9228c2301f7",
   "metadata": {},
   "outputs": [
    {
     "name": "stdout",
     "output_type": "stream",
     "text": [
      "31/31 - 0s - loss: 0.4839 - accuracy: 0.8616 - 145ms/epoch - 5ms/step\n"
     ]
    }
   ],
   "source": [
    "## Measure test-set accuracy with the keras built-in function\n",
    "test_loss, test_acc = model.evaluate(test_ds, verbose=2)"
   ]
  },
  {
   "cell_type": "code",
   "execution_count": 44,
   "id": "f58f6e48-ce35-4f5d-be78-60abc58de3dd",
   "metadata": {},
   "outputs": [
    {
     "name": "stdout",
     "output_type": "stream",
     "text": [
      "ds_labels[0] = 3\n",
      "<class 'list'>\n",
      "31/31 [==============================] - 0s 3ms/step\n"
     ]
    },
    {
     "data": {
      "image/png": "[encoded data removed]",
      "text/plain": [
       "<Figure size 500x400 with 2 Axes>"
      ]
     },
     "metadata": {},
     "output_type": "display_data"
    },
    {
     "data": {
      "text/plain": [
       "<Figure size 640x480 with 0 Axes>"
      ]
     },
     "metadata": {},
     "output_type": "display_data"
    }
   ],
   "source": [
    "def get_confusion_matrix(dset, model):\n",
    "    # there is probably a cleaner way to do this using y_pred = model.predict(dset)\n",
    "    ds_audio = []\n",
    "    ds_labels = []\n",
    "\n",
    "    if is_batched(dset):\n",
    "      dset = dset.unbatch()\n",
    "  \n",
    "    for sample in dset:\n",
    "      audio, label = sample[0], sample[1]\n",
    "      ds_audio.append(audio.numpy())\n",
    "      ds_labels.append(label.numpy())\n",
    "\n",
    "    print(f\"ds_labels[0] = {ds_labels[0]}\")\n",
    "    print(type(ds_labels))\n",
    "\n",
    "    ds_labels = np.array(ds_labels)\n",
    "    ds_audio = np.array(ds_audio)\n",
    "\n",
    "    model_out = model.predict(ds_audio)\n",
    "    y_pred = np.argmax(model_out, axis=1)\n",
    "    y_true = ds_labels\n",
    "\n",
    "    # ds_acc = sum(y_pred == y_true) / len(y_true)\n",
    "    confusion_mtx = tf.math.confusion_matrix(y_true, y_pred) \n",
    "    return confusion_mtx\n",
    "\n",
    "# print(f'Data set accuracy: {ds_acc:.0%}')\n",
    "\n",
    "confusion_mtx = get_confusion_matrix(test_ds, model)\n",
    "plt.figure(figsize=(5,4))\n",
    "sns.heatmap(confusion_mtx, xticklabels=label_list, yticklabels=label_list, \n",
    "            annot=True, fmt='g')\n",
    "plt.xlabel('Prediction')\n",
    "plt.ylabel('Label')\n",
    "plt.show()\n",
    "plt.savefig('test_set_confusion_matrix.png')\n"
   ]
  }
 ],
 "metadata": {
  "kernelspec": {
   "display_name": "Python 3 (ipykernel)",
   "language": "python",
   "name": "python3"
  },
  "language_info": {
   "codemirror_mode": {
    "name": "ipython",
    "version": 3
   },
   "file_extension": ".py",
   "mimetype": "text/x-python",
   "name": "python",
   "nbconvert_exporter": "python",
   "pygments_lexer": "ipython3",
   "version": "3.10.13"
  }
 },
 "nbformat": 4,
 "nbformat_minor": 5
}
