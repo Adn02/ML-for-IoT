{
 "cells": [
  {
   "cell_type": "markdown",
   "id": "b817c33f",
   "metadata": {},
   "source": [
    "<small>\n",
    "!/usr/bin/env python\n",
    " coding: utf-8\n",
    "\n",
    "Basic Steps\n",
    "\n",
    "1. Run a baseline training script to build a speech commands model.\n",
    "2. Add in your custom word to the training and test/validation sets.\n",
    "   - Modify labels, shape of your output tensor in the model.\n",
    "   - Make sure that feature extractor for the model aligns with the feature extractor \n",
    "     used in the arduino code.\n",
    "3. Re-train model. => TF Model using floating-point numbers, that recognizes Google word and custom word.\n",
    "4. Quantize the model and convert to TFlite. => keyword_model.tflite file\n",
    "5. Convert tflite to .c file, using xxd => model_data.cc\n",
    "6. Replace contents of existing micro_features_model.cpp with output of xxd.\n",
    "\n",
    "All of the above steps are done in this notebook for the commands 'left', 'right'.\n",
    "\n",
    "7. In micro_speech.ino, modify micro_op_resolver (around line 80) to add any necessary operations (DIFF_FROM_LECTURE)\n",
    "8. In micro_features_model_settings.h, modify kSilenceIndex and kUnknownIndex, depending on where you have them in commands.  \n",
    "   - Commands = ['left', 'right', '_silence', '_unknown'] => kSilenceIndex=2, kUnknownIndex=3\n",
    "9. In micro_features_model_settings.cpp, modify kCategoryLabels to correspond to commands in this script.\n",
    "10. In micro_features_micro_model_settings.h, set kFeatureSliceDurationMs, kFeatureSliceStrideMs to match what is passed to microfrontend as window_size, window_step, respectively.\n",
    "11. Rebuild Arduino program, run it, recognize the two target words.\n",
    "12. Experiment with model architecture, training parameters/methods, augmentation, more data-gathering, etc.\n",
    " \n",
    "\n",
    "You can download the data set with this command line (or just a browser):\n",
    " \n",
    "`wget http://download.tensorflow.org/data/speech_commands_v0.02.tar.gz `</small>\n"
   ]
  },
  {
   "cell_type": "code",
   "execution_count": 1,
   "id": "6a3b460a",
   "metadata": {},
   "outputs": [],
   "source": [
    "def in_notebook():\n",
    "  \"\"\"\n",
    "  Test if we are in a python script vs jupyter notebook.\n",
    "  Returns True if called in a jupyter notebook, false if called in a standard python file\n",
    "  taken from https://stackoverflow.com/questions/15411967/how-can-i-check-if-code-is-executed-in-the-ipython-notebook\n",
    "  \"\"\"\n",
    "  import __main__ as main\n",
    "  return not hasattr(main, '__file__')"
   ]
  },
  {
   "cell_type": "code",
   "execution_count": 2,
   "id": "38baccf6-3ecb-430a-9360-1d0a03f06a48",
   "metadata": {},
   "outputs": [
    {
     "name": "stdout",
     "output_type": "stream",
     "text": [
      "2.10.0\n"
     ]
    }
   ],
   "source": [
    "# TensorFlow and tf.keras\n",
    "import tensorflow as tf\n",
    "from tensorflow.keras import Input, layers\n",
    "from tensorflow.keras import models, regularizers\n",
    "from tensorflow.keras.layers.experimental import preprocessing\n",
    "from tensorflow.lite.experimental.microfrontend.python.ops import audio_microfrontend_op as frontend_op\n",
    "print(tf.__version__)\n",
    "\n",
    "# Helper libraries\n",
    "import numpy as np\n",
    "import random\n",
    "import matplotlib.pyplot as plt\n",
    "import seaborn as sns\n",
    "import time\n",
    "\n",
    "if in_notebook:\n",
    "  from tqdm.notebook import tqdm\n",
    "else:\n",
    "  from tqdm import tqdm \n",
    "\n",
    "import os\n",
    "import pathlib\n",
    "\n",
    "from datetime import datetime as dt\n",
    "\n",
    "from IPython import display\n",
    "\n",
    "import platform\n",
    "\n",
    "\n",
    "# Future Aidan: The model overfits like a mf, tune model complexity or balance dataset (look into silence & unknown classes)\n",
    "# Target Custom Word is lean"
   ]
  },
  {
   "cell_type": "code",
   "execution_count": 3,
   "id": "8134d82b-6961-42be-9f19-11a2f06ecd6f",
   "metadata": {},
   "outputs": [],
   "source": [
    "# Set seed for experiment reproducibility\n",
    "seed = 42\n",
    "tf.random.set_seed(seed)\n",
    "np.random.seed(seed)"
   ]
  },
  {
   "cell_type": "code",
   "execution_count": 4,
   "id": "2c447510-aabb-4b94-aa4b-5d96cca20465",
   "metadata": {},
   "outputs": [
    {
     "name": "stdout",
     "output_type": "stream",
     "text": [
      "FFT window length = 1024\n"
     ]
    }
   ],
   "source": [
    "# Define range of 16-bit integers\n",
    "i16min = -2**15\n",
    "i16max = 2**15-1\n",
    "fsamp = 16000 # sampling rate\n",
    "wave_length_ms = 1000 # 1000 => 1 sec of audio\n",
    "wave_length_samps = int(wave_length_ms*fsamp/1000)\n",
    "\n",
    "# you can change these next three\n",
    "window_size_ms = 64 \n",
    "window_step_ms = 48\n",
    "num_filters = 32\n",
    "batch_size = 32\n",
    "use_microfrontend = True # recommended, but you can use another feature extractor if you like\n",
    "\n",
    "## uncomment exactly one of these \n",
    "dataset = 'mini-speech'\n",
    "# dataset = 'full-speech-files' # use the full speech commands stored as files \n",
    "\n",
    "commands = ['imposter', 'down'] ## Change this line for your custom keywords\n",
    "\n",
    "# limit the instances of each command in the training set to simulate limited data\n",
    "limit_positive_samples = False\n",
    "max_wavs_0 = 200  # use no more than ~ samples of commands[0]\n",
    "max_wavs_1 = 200  # use no more than ~ samples of commands[1]\n",
    "\n",
    "silence_str = \"_silence\"  # label for <no speech detected>\n",
    "unknown_str = \"_unknown\"  # label for <speech detected but not one of the target words>\n",
    "EPOCHS = 50\n",
    "\n",
    "print(f\"FFT window length = {int(window_size_ms * fsamp / 1000)}\")\n",
    "\n",
    "might_be = {True:\"IS\", False:\"IS NOT\"} # useful for formatting conditional sentences\n",
    "\n",
    "# Apply the frontend to an example signal.\n"
   ]
  },
  {
   "cell_type": "code",
   "execution_count": 5,
   "id": "963529df-f90e-4992-a956-dfe2c56be580",
   "metadata": {},
   "outputs": [],
   "source": [
    "if dataset == 'mini-speech':\n",
    "  data_dir = pathlib.Path(os.path.join(os.getenv(\"USERPROFILE\"), 'Desktop/UNCC/Github/ML-for-IoT/data/mini_speech_commands'))\n",
    "  if not data_dir.exists():\n",
    "    tf.keras.utils.get_file('mini_speech_commands.zip',\n",
    "          origin=\"http://storage.googleapis.com/download.tensorflow.org/data/mini_speech_commands.zip\",\n",
    "          extract=True, cache_dir='.', cache_subdir='data')\n",
    "elif dataset == 'full-speech-files':\n",
    "  # data_dir = '/dfs/org/Holleman-Coursework/data/speech_dataset'\n",
    "  data_dir = pathlib.Path(os.path.join(os.getenv(\"USERPROFILE\"), 'Desktop/UNCC/Github/ML-for-IoT/data', 'speech_commands_files_0.2'))\n",
    "else:\n",
    "  raise RuntimeError('dataset should either be \"mini-speech\" or \"full-speech-files\"')\n",
    "\n",
    "additional_dir = pathlib.Path(os.path.join(os.getenv(\"USERPROFILE\"), 'Desktop/UNCC/Github/ML-for-IoT/data', 'custom_speech_commands'))"
   ]
  },
  {
   "cell_type": "code",
   "execution_count": 6,
   "id": "aa1e4231-c4c5-4c8f-9f2a-6116bc535b8c",
   "metadata": {},
   "outputs": [
    {
     "name": "stdout",
     "output_type": "stream",
     "text": [
      "C:\\Users\\aidan_000\\Desktop\\UNCC\\Github\\ML-for-IoT\\data\\mini_speech_commands\n",
      "C:\\Users\\aidan_000\\Desktop\\UNCC\\Github\\ML-for-IoT\\data\\custom_speech_commands\n"
     ]
    }
   ],
   "source": [
    "print(data_dir)\n",
    "print(additional_dir)"
   ]
  },
  {
   "cell_type": "code",
   "execution_count": 7,
   "id": "c4916543-e74d-4bda-b708-97e3ae0df786",
   "metadata": {},
   "outputs": [
    {
     "name": "stdout",
     "output_type": "stream",
     "text": [
      "label_list: ['_silence', '_unknown', 'imposter', 'down']\n"
     ]
    }
   ],
   "source": [
    "label_list = commands.copy()\n",
    "label_list.insert(0, silence_str)\n",
    "label_list.insert(1, unknown_str)\n",
    "print('label_list:', label_list)"
   ]
  },
  {
   "cell_type": "code",
   "execution_count": 8,
   "id": "7a26d5c9-08ff-4f4f-8d41-56a1dd3cb37e",
   "metadata": {},
   "outputs": [
    {
     "name": "stdout",
     "output_type": "stream",
     "text": [
      "Number of total examples: 1500\n",
      "Number of examples per label: {'_silence': 0, '_unknown': 0, 'imposter': 0, 'down': 1000}\n",
      "Example file tensor: tf.Tensor(b'C:\\\\Users\\\\aidan_000\\\\Desktop\\\\UNCC\\\\Github\\\\ML-for-IoT\\\\data\\\\custom_speech_commands\\\\imposter_augmented\\\\imposter_-37_short.wav', shape=(), dtype=string)\n"
     ]
    }
   ],
   "source": [
    "if dataset == 'mini-speech' or dataset == 'full-speech-files':\n",
    "    # filenames = tf.io.gfile.glob(str(data_dir) + '/*/*.wav') \n",
    "    # filenames = tf.io.gfile.glob(str(data_dir) + os.sep + '*' + '/' + '*.wav')\n",
    "    \n",
    "    # filenames = tf.io.gfile.glob(os.path.join(str(data_dir), '*', '*.wav'))\n",
    "    # filenames += tf.io.gfile.glob(os.path.join(str(additional_dir), '*', '*.wav'))\n",
    "    \n",
    "    # filenames = []\n",
    "    # for cmd in label_list:\n",
    "    #     filenames += tf.io.gfile.glob(str(data_dir) + '/' + cmd + '/*')\n",
    "    \n",
    "\n",
    "    # with the next commentout-out line, you can choose only files for words in labels\n",
    "    filenames = []\n",
    "    for label in label_list:\n",
    "        filenames += tf.io.gfile.glob(os.path.join(str(data_dir), label, '*.wav'))\n",
    "        filenames += tf.io.gfile.glob(os.path.join(str(additional_dir), (label + '_augmented'), '*.wav'))\n",
    "\n",
    "    filenames = tf.random.shuffle(filenames)\n",
    "    num_samples = len(filenames)\n",
    "    print('Number of total examples:', num_samples)\n",
    "    # label_counts = {label: len(tf.io.gfile.glob(os.path.join(str(data_dir), label, '*.wav'))) for label in label_list}\n",
    "    label_counts = {label: len(tf.io.gfile.glob(os.path.join(str(data_dir), label, '*.wav')) + tf.io.gfile.glob(os.path.join(str(additional_dir),  (label + '_augmented'), '*.wav'))) for label in label_list}\n",
    "    print('Number of examples per label:', label_counts)    \n",
    "    \n",
    "    print('Example file tensor:', filenames[0])\n",
    "\n"
   ]
  },
  {
   "cell_type": "code",
   "execution_count": 95,
   "id": "61697bf2-eb96-478b-b22b-646d98a92ef7",
   "metadata": {},
   "outputs": [
    {
     "name": "stdout",
     "output_type": "stream",
     "text": [
      "C:\\Users\\aidan_000\\Desktop\\UNCC\\Github\\ML-for-IoT\\data\\custom_speech_commands\\imposter_simple_aug\\imposter_-37_short.wav\n",
      "C:\\Users\\aidan_000\\Desktop\\UNCC\\Github\\ML-for-IoT\\data\\custom_speech_commands\\imposter_simple_aug\\imposter_-35_down.wav\n",
      "C:\\Users\\aidan_000\\Desktop\\UNCC\\Github\\ML-for-IoT\\data\\mini_speech_commands\\down\\4f256313_nohash_0.wav\n",
      "C:\\Users\\aidan_000\\Desktop\\UNCC\\Github\\ML-for-IoT\\data\\mini_speech_commands\\down\\9637f43f_nohash_1.wav\n",
      "C:\\Users\\aidan_000\\Desktop\\UNCC\\Github\\ML-for-IoT\\data\\custom_speech_commands\\imposter_simple_aug\\imposter_-41_trim.wav\n",
      "C:\\Users\\aidan_000\\Desktop\\UNCC\\Github\\ML-for-IoT\\data\\mini_speech_commands\\down\\d37e4bf1_nohash_2.wav\n",
      "C:\\Users\\aidan_000\\Desktop\\UNCC\\Github\\ML-for-IoT\\data\\mini_speech_commands\\down\\6f2f57c1_nohash_2.wav\n",
      "C:\\Users\\aidan_000\\Desktop\\UNCC\\Github\\ML-for-IoT\\data\\mini_speech_commands\\down\\e04d7130_nohash_0.wav\n",
      "C:\\Users\\aidan_000\\Desktop\\UNCC\\Github\\ML-for-IoT\\data\\mini_speech_commands\\down\\363c6bad_nohash_1.wav\n",
      "C:\\Users\\aidan_000\\Desktop\\UNCC\\Github\\ML-for-IoT\\data\\custom_speech_commands\\imposter_simple_aug\\imposter_-36_down.wav\n"
     ]
    }
   ],
   "source": [
    "# Not really necessary, but just look at a few of the files to make sure that \n",
    "# they're the correct files, shuffled, etc.\n",
    "\n",
    "for i in range(10):\n",
    "    print(filenames[i].numpy().decode('utf8'))"
   ]
  },
  {
   "cell_type": "code",
   "execution_count": 96,
   "id": "b7145dab-a29b-47eb-b873-28b7e7a0571c",
   "metadata": {},
   "outputs": [
    {
     "name": "stdout",
     "output_type": "stream",
     "text": [
      "Using mini-speech\n",
      "Training set size 1200\n",
      "Validation set size 150\n",
      "Test set size 150\n"
     ]
    }
   ],
   "source": [
    "if dataset == 'mini-speech':\n",
    "  print('Using mini-speech')\n",
    "  num_train_files = int(0.8*num_samples)\n",
    "  num_val_files = int(0.1*num_samples)\n",
    "  num_test_files = num_samples - num_train_files - num_val_files\n",
    "  train_files = filenames[:num_train_files]\n",
    "  val_files = filenames[num_train_files: num_train_files + num_val_files]\n",
    "  test_files = filenames[-num_test_files:]\n",
    "elif dataset == 'full-speech-files':  \n",
    "  # the full speech-commands set lists which files are to be used\n",
    "  # as test and validation data; train with everything else\n",
    "  fname_val_files = os.path.join(data_dir, 'validation_list.txt')    \n",
    "  with open(fname_val_files) as fpi_val:\n",
    "    val_files = fpi_val.read().splitlines()\n",
    "  # validation_list.txt only lists partial paths\n",
    "  val_files = [os.path.join(data_dir, fn) for fn in val_files]\n",
    "  fname_test_files = os.path.join(data_dir, 'testing_list.txt')\n",
    "  with open(fname_test_files) as fpi_tst:\n",
    "    test_files = fpi_tst.read().splitlines()\n",
    "  # testing_list.txt only lists partial paths\n",
    "  test_files = [os.path.join(data_dir, fn).rstrip() for fn in test_files]    \n",
    "    \n",
    "  if os.sep != '/': \n",
    "    # the files validation_list.txt and testing_list.txt use '/' as path separator\n",
    "    # if we're on a windows machine, replace the '/' with the correct separator\n",
    "    val_files = [fn.replace('/', os.sep) for fn in val_files]\n",
    "    test_files = [fn.replace('/', os.sep) for fn in test_files] \n",
    "\n",
    "  # convert the TF tensor filenames into an array of strings so we can use basic python constructs\n",
    "  train_files = [f.decode('utf8') for f in filenames.numpy()]\n",
    "  # don't train with the _background_noise_ files; exclude when directory name starts with '_'\n",
    "  train_files = [f for f in train_files if f.split(os.sep)[-2][0] != '_']\n",
    "  # validation and test files are listed explicitly in *_list.txt; train with everything else\n",
    "  train_files = list(set(train_files) - set(test_files) - set(val_files))\n",
    "  \n",
    "elif dataset == 'full-speech-ds':\n",
    "  print(\"Using full-speech-ds. This is in progress.  Good luck!\")\n",
    "else:\n",
    "    raise ValueError(\"dataset must be either full-speech-files, full-speech-ds or mini-speech\")\n",
    "\n",
    "print('Training set size', len(train_files))\n",
    "print('Validation set size', len(val_files))\n",
    "print('Test set size', len(test_files))\n",
    "\n",
    "\n",
    "# max_samples_per_command = {\n",
    "#     'imposter': 4800,  # Limit for 'up' command\n",
    "#     'down': 4800  # Limit for 'down' command\n",
    "# }\n",
    "\n",
    "# # Initialize dictionaries to keep track of selected samples for each command\n",
    "# selected_samples_per_command = {command: 0 for command in commands}\n",
    "\n",
    "# # Initialize lists to store selected files for training\n",
    "# train_files_selected = []\n",
    "\n",
    "# # Iterate through all files and select samples based on the limits\n",
    "# for filename_tensor in train_files:\n",
    "#     for command in commands:\n",
    "#         if command in filename_tensor and selected_samples_per_command[command] < max_samples_per_command.get(command, float('inf')):\n",
    "#             train_files_selected.append(filename_tensor)\n",
    "#             selected_samples_per_command[command] += 1\n",
    "#             break\n",
    "# # Print the sizes of the new training set\n",
    "# print('New training set size:', len(train_files_selected))"
   ]
  },
  {
   "cell_type": "code",
   "execution_count": 97,
   "id": "430b3fdf-01ae-44d7-a9c5-4a366c7ee9b6",
   "metadata": {},
   "outputs": [
    {
     "name": "stdout",
     "output_type": "stream",
     "text": [
      "Training set size 1200\n"
     ]
    }
   ],
   "source": [
    "if limit_positive_samples:\n",
    "  train_files = list(train_files)\n",
    "  random.shuffle(train_files)\n",
    "  num_files_cmd0 = 0\n",
    "  num_files_cmd1 = 0\n",
    "  # elements of train_files look like this:\n",
    "  # '/path/to/data/speech_commands_0_2_root/right/196e84b7_nohash_0.wav'\n",
    "  # so if we split on '/' (or '\\' in windows), the 2nd to last element is the label\n",
    "  for idx, f in enumerate(train_files):\n",
    "      if f.split(os.sep)[-2] == commands[0]:\n",
    "          if num_files_cmd0 >= max_wavs_0:\n",
    "              train_files.pop(idx)\n",
    "          else:\n",
    "              num_files_cmd0 += 1\n",
    "      elif f.split(os.sep)[-2] == commands[1]:\n",
    "          if num_files_cmd1 >= max_wavs_1:\n",
    "              train_files.pop(idx)\n",
    "          else:\n",
    "              num_files_cmd1 += 1\n",
    "\n",
    "print('Training set size', len(train_files))"
   ]
  },
  {
   "cell_type": "code",
   "execution_count": 98,
   "id": "585a9638-e07b-4794-a3ce-4e2e213770e5",
   "metadata": {},
   "outputs": [
    {
     "name": "stdout",
     "output_type": "stream",
     "text": [
      "tf.Tensor(\n",
      "[b'C:\\\\Users\\\\aidan_000\\\\Desktop\\\\UNCC\\\\Github\\\\ML-for-IoT\\\\data\\\\custom_speech_commands\\\\imposter_simple_aug\\\\imposter_-37_short.wav'\n",
      " b'C:\\\\Users\\\\aidan_000\\\\Desktop\\\\UNCC\\\\Github\\\\ML-for-IoT\\\\data\\\\custom_speech_commands\\\\imposter_simple_aug\\\\imposter_-35_down.wav'\n",
      " b'C:\\\\Users\\\\aidan_000\\\\Desktop\\\\UNCC\\\\Github\\\\ML-for-IoT\\\\data\\\\mini_speech_commands\\\\down\\\\4f256313_nohash_0.wav'\n",
      " b'C:\\\\Users\\\\aidan_000\\\\Desktop\\\\UNCC\\\\Github\\\\ML-for-IoT\\\\data\\\\mini_speech_commands\\\\down\\\\9637f43f_nohash_1.wav'\n",
      " b'C:\\\\Users\\\\aidan_000\\\\Desktop\\\\UNCC\\\\Github\\\\ML-for-IoT\\\\data\\\\custom_speech_commands\\\\imposter_simple_aug\\\\imposter_-41_trim.wav'], shape=(5,), dtype=string)\n",
      "tf.Tensor(\n",
      "[b'C:\\\\Users\\\\aidan_000\\\\Desktop\\\\UNCC\\\\Github\\\\ML-for-IoT\\\\data\\\\mini_speech_commands\\\\down\\\\1746d7b6_nohash_0.wav'\n",
      " b'C:\\\\Users\\\\aidan_000\\\\Desktop\\\\UNCC\\\\Github\\\\ML-for-IoT\\\\data\\\\mini_speech_commands\\\\down\\\\f2a90886_nohash_0.wav'\n",
      " b'C:\\\\Users\\\\aidan_000\\\\Desktop\\\\UNCC\\\\Github\\\\ML-for-IoT\\\\data\\\\custom_speech_commands\\\\imposter_simple_aug\\\\imposter_-17_long.wav'\n",
      " b'C:\\\\Users\\\\aidan_000\\\\Desktop\\\\UNCC\\\\Github\\\\ML-for-IoT\\\\data\\\\mini_speech_commands\\\\down\\\\5ab63b0a_nohash_0.wav'\n",
      " b'C:\\\\Users\\\\aidan_000\\\\Desktop\\\\UNCC\\\\Github\\\\ML-for-IoT\\\\data\\\\mini_speech_commands\\\\down\\\\8d4cdc60_nohash_0.wav'], shape=(5,), dtype=string)\n",
      "tf.Tensor(\n",
      "[b'C:\\\\Users\\\\aidan_000\\\\Desktop\\\\UNCC\\\\Github\\\\ML-for-IoT\\\\data\\\\mini_speech_commands\\\\down\\\\6cc28ce5_nohash_0.wav'\n",
      " b'C:\\\\Users\\\\aidan_000\\\\Desktop\\\\UNCC\\\\Github\\\\ML-for-IoT\\\\data\\\\mini_speech_commands\\\\down\\\\ced835d3_nohash_3.wav'\n",
      " b'C:\\\\Users\\\\aidan_000\\\\Desktop\\\\UNCC\\\\Github\\\\ML-for-IoT\\\\data\\\\mini_speech_commands\\\\down\\\\b9515bf3_nohash_1.wav'\n",
      " b'C:\\\\Users\\\\aidan_000\\\\Desktop\\\\UNCC\\\\Github\\\\ML-for-IoT\\\\data\\\\mini_speech_commands\\\\down\\\\e0315cf6_nohash_0.wav'\n",
      " b'C:\\\\Users\\\\aidan_000\\\\Desktop\\\\UNCC\\\\Github\\\\ML-for-IoT\\\\data\\\\custom_speech_commands\\\\imposter_simple_aug\\\\imposter_-40_down.wav'], shape=(5,), dtype=string)\n"
     ]
    }
   ],
   "source": [
    "print(train_files[:5])\n",
    "print(val_files[:5])\n",
    "print(test_files[:5])"
   ]
  },
  {
   "cell_type": "code",
   "execution_count": 99,
   "id": "a8128d07-a5ba-4a50-a4f2-9e635919719a",
   "metadata": {},
   "outputs": [],
   "source": [
    "def decode_audio(audio_binary):\n",
    "  audio, _ = tf.audio.decode_wav(audio_binary)\n",
    "  return tf.squeeze(audio, axis=-1)"
   ]
  },
  {
   "cell_type": "code",
   "execution_count": 100,
   "id": "2852cd87-2ca3-4a56-af11-f2a7500edcf2",
   "metadata": {},
   "outputs": [],
   "source": [
    "def get_label(file_path):\n",
    "  parts = tf.strings.split(file_path, os.path.sep)\n",
    "  in_set = tf.reduce_any(parts[-2] == label_list)\n",
    "  label = tf.cond(in_set, lambda: parts[-2], lambda: tf.constant(unknown_str))\n",
    "  # print(f\"parts[-2] = {parts[-2]}, in_set = {in_set}, label = {label}\")\n",
    "  # Note: You'll use indexing here instead of tuple unpacking to enable this \n",
    "  # to work in a TensorFlow graph.\n",
    "  return  label # parts[-2]"
   ]
  },
  {
   "cell_type": "code",
   "execution_count": 101,
   "id": "e9bc0fe4-7056-46d8-b305-4256ad03afeb",
   "metadata": {},
   "outputs": [],
   "source": [
    "def get_waveform_and_label(file_path):\n",
    "  label = get_label(file_path)\n",
    "  audio_binary = tf.io.read_file(file_path)\n",
    "  waveform = decode_audio(audio_binary)\n",
    "  return waveform, label"
   ]
  },
  {
   "cell_type": "code",
   "execution_count": 102,
   "id": "c14e56c5-23e4-48f0-bbfb-a79516d853c5",
   "metadata": {},
   "outputs": [],
   "source": [
    "def get_spectrogram(waveform):\n",
    "  # Concatenate audio with padding so that all audio clips will be of the \n",
    "  # same length (16000 samples)\n",
    "  zero_padding = tf.zeros([wave_length_samps] - tf.shape(waveform), dtype=tf.int16)\n",
    "  waveform = tf.cast(0.5*waveform*(i16max-i16min), tf.int16)  # scale float [-1,+1]=>INT16\n",
    "  equal_length = tf.concat([waveform, zero_padding], 0)\n",
    "  ## Make sure these labels correspond to those used in micro_features_micro_features_generator.cpp\n",
    "  spectrogram = frontend_op.audio_microfrontend(equal_length, sample_rate=fsamp, num_channels=num_filters,\n",
    "                                    window_size=window_size_ms, window_step=window_step_ms)\n",
    "  return spectrogram\n",
    "\n",
    "# Function to convert each waveform in a set into a spectrogram, then convert those\n",
    "# back into a dataset using `from_tensor_slices`.  (We should be able to use \n",
    "# `wav_ds.map(get_spectrogram_and_label_id)`, but there is a problem with that process)."
   ]
  },
  {
   "cell_type": "code",
   "execution_count": 103,
   "id": "a610028c-f48c-4b24-a767-74171b4de33f",
   "metadata": {},
   "outputs": [],
   "source": [
    "def create_silence_dataset(num_waves, samples_per_wave, rms_noise_range=[0.01,0.2], silent_label=silence_str):\n",
    "    # create num_waves waveforms of white gaussian noise, with rms level drawn from rms_noise_range\n",
    "    # to act as the \"silence\" dataset\n",
    "    rng = np.random.default_rng()\n",
    "    rms_noise_levels = rng.uniform(low=rms_noise_range[0], high=rms_noise_range[1], size=num_waves)\n",
    "    rand_waves = np.zeros((num_waves, samples_per_wave), dtype=np.float32) # pre-allocate memory\n",
    "    for i in range(num_waves):\n",
    "        rand_waves[i,:] = rms_noise_levels[i]*rng.standard_normal(samples_per_wave)\n",
    "    labels = [silent_label]*num_waves\n",
    "    return tf.data.Dataset.from_tensor_slices((rand_waves, labels))"
   ]
  },
  {
   "cell_type": "code",
   "execution_count": 104,
   "id": "e3750507-4bc3-4c92-8db0-553affe47c03",
   "metadata": {},
   "outputs": [],
   "source": [
    "def wavds2specds(waveform_ds, verbose=True):\n",
    "  wav, label = next(waveform_ds.as_numpy_iterator())\n",
    "  one_spec = get_spectrogram(wav)\n",
    "  one_spec = tf.expand_dims(one_spec, axis=0)  # add a 'batch' dimension at the front\n",
    "  one_spec = tf.expand_dims(one_spec, axis=-1) # add a singleton 'channel' dimension at the back    \n",
    "\n",
    "  num_waves = 0 # count the waveforms so we can allocate the memory\n",
    "  for wav, label in waveform_ds:\n",
    "    num_waves += 1\n",
    "  print(f\"About to create spectrograms from {num_waves} waves\")\n",
    "  spec_shape = (num_waves,) + one_spec.shape[1:] \n",
    "  spec_grams = np.nan * np.zeros(spec_shape)  # allocate memory\n",
    "  labels = np.nan * np.zeros(num_waves)\n",
    "  idx = 0\n",
    "  for wav, label in waveform_ds:    \n",
    "    if verbose and idx % 250 == 0:\n",
    "      print(f\"\\r {idx} wavs processed\", end='')\n",
    "    spectrogram = get_spectrogram(wav)\n",
    "    # TF conv layer expect inputs structured as 4D (batch_size, height, width, channels)\n",
    "    # the microfrontend returns 2D tensors (freq, time), so we need to \n",
    "    spectrogram = tf.expand_dims(spectrogram, axis=0)  # add a 'batch' dimension at the front\n",
    "    spectrogram = tf.expand_dims(spectrogram, axis=-1) # add a singleton 'channel' dimension at the back\n",
    "    spec_grams[idx, ...] = spectrogram\n",
    "    new_label = label.numpy().decode('utf8')\n",
    "    new_label_id = np.argmax(new_label == np.array(label_list))    \n",
    "    labels[idx] = new_label_id # for numeric labels\n",
    "    # labels.append(new_label) # for string labels\n",
    "    idx += 1\n",
    "  labels = np.array(labels, dtype=int)\n",
    "  output_ds = tf.data.Dataset.from_tensor_slices((spec_grams, labels))\n",
    "  return output_ds"
   ]
  },
  {
   "cell_type": "code",
   "execution_count": 105,
   "id": "1fb97851-c090-4528-9723-f8e44b47d2c4",
   "metadata": {},
   "outputs": [
    {
     "ename": "InvalidArgumentError",
     "evalue": "{{function_node __wrapped__IteratorGetNext_output_types_2_device_/job:localhost/replica:0/task:0/device:CPU:0}} Bad audio format for WAV: Expected 1 (PCM), but got3\n\t [[{{node DecodeWav}}]] [Op:IteratorGetNext]",
     "output_type": "error",
     "traceback": [
      "\u001b[1;31m---------------------------------------------------------------------------\u001b[0m",
      "\u001b[1;31mInvalidArgumentError\u001b[0m                      Traceback (most recent call last)",
      "Cell \u001b[1;32mIn[105], line 5\u001b[0m\n\u001b[0;32m      3\u001b[0m files_ds \u001b[38;5;241m=\u001b[39m tf\u001b[38;5;241m.\u001b[39mdata\u001b[38;5;241m.\u001b[39mDataset\u001b[38;5;241m.\u001b[39mfrom_tensor_slices(train_files)\n\u001b[0;32m      4\u001b[0m waveform_ds \u001b[38;5;241m=\u001b[39m files_ds\u001b[38;5;241m.\u001b[39mmap(get_waveform_and_label, num_parallel_calls\u001b[38;5;241m=\u001b[39mAUTOTUNE)\n\u001b[1;32m----> 5\u001b[0m train_ds \u001b[38;5;241m=\u001b[39m \u001b[43mwavds2specds\u001b[49m\u001b[43m(\u001b[49m\u001b[43mwaveform_ds\u001b[49m\u001b[43m)\u001b[49m\n",
      "Cell \u001b[1;32mIn[104], line 2\u001b[0m, in \u001b[0;36mwavds2specds\u001b[1;34m(waveform_ds, verbose)\u001b[0m\n\u001b[0;32m      1\u001b[0m \u001b[38;5;28;01mdef\u001b[39;00m \u001b[38;5;21mwavds2specds\u001b[39m(waveform_ds, verbose\u001b[38;5;241m=\u001b[39m\u001b[38;5;28;01mTrue\u001b[39;00m):\n\u001b[1;32m----> 2\u001b[0m   wav, label \u001b[38;5;241m=\u001b[39m \u001b[38;5;28;43mnext\u001b[39;49m\u001b[43m(\u001b[49m\u001b[43mwaveform_ds\u001b[49m\u001b[38;5;241;43m.\u001b[39;49m\u001b[43mas_numpy_iterator\u001b[49m\u001b[43m(\u001b[49m\u001b[43m)\u001b[49m\u001b[43m)\u001b[49m\n\u001b[0;32m      3\u001b[0m   one_spec \u001b[38;5;241m=\u001b[39m get_spectrogram(wav)\n\u001b[0;32m      4\u001b[0m   one_spec \u001b[38;5;241m=\u001b[39m tf\u001b[38;5;241m.\u001b[39mexpand_dims(one_spec, axis\u001b[38;5;241m=\u001b[39m\u001b[38;5;241m0\u001b[39m)  \u001b[38;5;66;03m# add a 'batch' dimension at the front\u001b[39;00m\n",
      "File \u001b[1;32mc:\\Users\\aidan_000\\anaconda3\\envs\\tensorflow_env\\lib\\site-packages\\tensorflow\\python\\data\\ops\\dataset_ops.py:4635\u001b[0m, in \u001b[0;36m_NumpyIterator.__next__\u001b[1;34m(self)\u001b[0m\n\u001b[0;32m   4632\u001b[0m     numpy\u001b[38;5;241m.\u001b[39msetflags(write\u001b[38;5;241m=\u001b[39m\u001b[38;5;28;01mFalse\u001b[39;00m)\n\u001b[0;32m   4633\u001b[0m   \u001b[38;5;28;01mreturn\u001b[39;00m numpy\n\u001b[1;32m-> 4635\u001b[0m \u001b[38;5;28;01mreturn\u001b[39;00m nest\u001b[38;5;241m.\u001b[39mmap_structure(to_numpy, \u001b[38;5;28;43mnext\u001b[39;49m\u001b[43m(\u001b[49m\u001b[38;5;28;43mself\u001b[39;49m\u001b[38;5;241;43m.\u001b[39;49m\u001b[43m_iterator\u001b[49m\u001b[43m)\u001b[49m)\n",
      "File \u001b[1;32mc:\\Users\\aidan_000\\anaconda3\\envs\\tensorflow_env\\lib\\site-packages\\tensorflow\\python\\data\\ops\\iterator_ops.py:766\u001b[0m, in \u001b[0;36mOwnedIterator.__next__\u001b[1;34m(self)\u001b[0m\n\u001b[0;32m    764\u001b[0m \u001b[38;5;28;01mdef\u001b[39;00m \u001b[38;5;21m__next__\u001b[39m(\u001b[38;5;28mself\u001b[39m):\n\u001b[0;32m    765\u001b[0m   \u001b[38;5;28;01mtry\u001b[39;00m:\n\u001b[1;32m--> 766\u001b[0m     \u001b[38;5;28;01mreturn\u001b[39;00m \u001b[38;5;28;43mself\u001b[39;49m\u001b[38;5;241;43m.\u001b[39;49m\u001b[43m_next_internal\u001b[49m\u001b[43m(\u001b[49m\u001b[43m)\u001b[49m\n\u001b[0;32m    767\u001b[0m   \u001b[38;5;28;01mexcept\u001b[39;00m errors\u001b[38;5;241m.\u001b[39mOutOfRangeError:\n\u001b[0;32m    768\u001b[0m     \u001b[38;5;28;01mraise\u001b[39;00m \u001b[38;5;167;01mStopIteration\u001b[39;00m\n",
      "File \u001b[1;32mc:\\Users\\aidan_000\\anaconda3\\envs\\tensorflow_env\\lib\\site-packages\\tensorflow\\python\\data\\ops\\iterator_ops.py:749\u001b[0m, in \u001b[0;36mOwnedIterator._next_internal\u001b[1;34m(self)\u001b[0m\n\u001b[0;32m    746\u001b[0m \u001b[38;5;66;03m# TODO(b/77291417): This runs in sync mode as iterators use an error status\u001b[39;00m\n\u001b[0;32m    747\u001b[0m \u001b[38;5;66;03m# to communicate that there is no more data to iterate over.\u001b[39;00m\n\u001b[0;32m    748\u001b[0m \u001b[38;5;28;01mwith\u001b[39;00m context\u001b[38;5;241m.\u001b[39mexecution_mode(context\u001b[38;5;241m.\u001b[39mSYNC):\n\u001b[1;32m--> 749\u001b[0m   ret \u001b[38;5;241m=\u001b[39m \u001b[43mgen_dataset_ops\u001b[49m\u001b[38;5;241;43m.\u001b[39;49m\u001b[43miterator_get_next\u001b[49m\u001b[43m(\u001b[49m\n\u001b[0;32m    750\u001b[0m \u001b[43m      \u001b[49m\u001b[38;5;28;43mself\u001b[39;49m\u001b[38;5;241;43m.\u001b[39;49m\u001b[43m_iterator_resource\u001b[49m\u001b[43m,\u001b[49m\n\u001b[0;32m    751\u001b[0m \u001b[43m      \u001b[49m\u001b[43moutput_types\u001b[49m\u001b[38;5;241;43m=\u001b[39;49m\u001b[38;5;28;43mself\u001b[39;49m\u001b[38;5;241;43m.\u001b[39;49m\u001b[43m_flat_output_types\u001b[49m\u001b[43m,\u001b[49m\n\u001b[0;32m    752\u001b[0m \u001b[43m      \u001b[49m\u001b[43moutput_shapes\u001b[49m\u001b[38;5;241;43m=\u001b[39;49m\u001b[38;5;28;43mself\u001b[39;49m\u001b[38;5;241;43m.\u001b[39;49m\u001b[43m_flat_output_shapes\u001b[49m\u001b[43m)\u001b[49m\n\u001b[0;32m    754\u001b[0m   \u001b[38;5;28;01mtry\u001b[39;00m:\n\u001b[0;32m    755\u001b[0m     \u001b[38;5;66;03m# Fast path for the case `self._structure` is not a nested structure.\u001b[39;00m\n\u001b[0;32m    756\u001b[0m     \u001b[38;5;28;01mreturn\u001b[39;00m \u001b[38;5;28mself\u001b[39m\u001b[38;5;241m.\u001b[39m_element_spec\u001b[38;5;241m.\u001b[39m_from_compatible_tensor_list(ret)  \u001b[38;5;66;03m# pylint: disable=protected-access\u001b[39;00m\n",
      "File \u001b[1;32mc:\\Users\\aidan_000\\anaconda3\\envs\\tensorflow_env\\lib\\site-packages\\tensorflow\\python\\ops\\gen_dataset_ops.py:3043\u001b[0m, in \u001b[0;36miterator_get_next\u001b[1;34m(iterator, output_types, output_shapes, name)\u001b[0m\n\u001b[0;32m   3041\u001b[0m   \u001b[38;5;28;01mreturn\u001b[39;00m _result\n\u001b[0;32m   3042\u001b[0m \u001b[38;5;28;01mexcept\u001b[39;00m _core\u001b[38;5;241m.\u001b[39m_NotOkStatusException \u001b[38;5;28;01mas\u001b[39;00m e:\n\u001b[1;32m-> 3043\u001b[0m   \u001b[43m_ops\u001b[49m\u001b[38;5;241;43m.\u001b[39;49m\u001b[43mraise_from_not_ok_status\u001b[49m\u001b[43m(\u001b[49m\u001b[43me\u001b[49m\u001b[43m,\u001b[49m\u001b[43m \u001b[49m\u001b[43mname\u001b[49m\u001b[43m)\u001b[49m\n\u001b[0;32m   3044\u001b[0m \u001b[38;5;28;01mexcept\u001b[39;00m _core\u001b[38;5;241m.\u001b[39m_FallbackException:\n\u001b[0;32m   3045\u001b[0m   \u001b[38;5;28;01mpass\u001b[39;00m\n",
      "File \u001b[1;32mc:\\Users\\aidan_000\\anaconda3\\envs\\tensorflow_env\\lib\\site-packages\\tensorflow\\python\\framework\\ops.py:7209\u001b[0m, in \u001b[0;36mraise_from_not_ok_status\u001b[1;34m(e, name)\u001b[0m\n\u001b[0;32m   7207\u001b[0m \u001b[38;5;28;01mdef\u001b[39;00m \u001b[38;5;21mraise_from_not_ok_status\u001b[39m(e, name):\n\u001b[0;32m   7208\u001b[0m   e\u001b[38;5;241m.\u001b[39mmessage \u001b[38;5;241m+\u001b[39m\u001b[38;5;241m=\u001b[39m (\u001b[38;5;124m\"\u001b[39m\u001b[38;5;124m name: \u001b[39m\u001b[38;5;124m\"\u001b[39m \u001b[38;5;241m+\u001b[39m name \u001b[38;5;28;01mif\u001b[39;00m name \u001b[38;5;129;01mis\u001b[39;00m \u001b[38;5;129;01mnot\u001b[39;00m \u001b[38;5;28;01mNone\u001b[39;00m \u001b[38;5;28;01melse\u001b[39;00m \u001b[38;5;124m\"\u001b[39m\u001b[38;5;124m\"\u001b[39m)\n\u001b[1;32m-> 7209\u001b[0m   \u001b[38;5;28;01mraise\u001b[39;00m core\u001b[38;5;241m.\u001b[39m_status_to_exception(e) \u001b[38;5;28;01mfrom\u001b[39;00m \u001b[38;5;28;01mNone\u001b[39;00m\n",
      "\u001b[1;31mInvalidArgumentError\u001b[0m: {{function_node __wrapped__IteratorGetNext_output_types_2_device_/job:localhost/replica:0/task:0/device:CPU:0}} Bad audio format for WAV: Expected 1 (PCM), but got3\n\t [[{{node DecodeWav}}]] [Op:IteratorGetNext]"
     ]
    }
   ],
   "source": [
    "AUTOTUNE = tf.data.experimental.AUTOTUNE\n",
    "num_train_files = len(train_files)\n",
    "files_ds = tf.data.Dataset.from_tensor_slices(train_files)\n",
    "waveform_ds = files_ds.map(get_waveform_and_label, num_parallel_calls=AUTOTUNE)\n",
    "train_ds = wavds2specds(waveform_ds)"
   ]
  },
  {
   "cell_type": "code",
   "execution_count": null,
   "id": "8ece84dd-3b49-426d-bde4-6292b0c3c320",
   "metadata": {},
   "outputs": [],
   "source": [
    "def copy_with_noise(ds_input, rms_level=0.25):\n",
    "  rng = tf.random.Generator.from_seed(1234)\n",
    "  wave_shape = tf.constant((wave_length_samps,))\n",
    "  def add_noise(waveform, label):\n",
    "    noise = rms_level*rng.normal(shape=wave_shape)\n",
    "    zero_padding = tf.zeros([wave_length_samps] - tf.shape(waveform), dtype=tf.float32)\n",
    "    waveform = tf.concat([waveform, zero_padding], 0)    \n",
    "    noisy_wave = waveform + noise\n",
    "    return noisy_wave, label\n",
    "\n",
    "  return ds_input.map(add_noise)"
   ]
  },
  {
   "cell_type": "code",
   "execution_count": null,
   "id": "5fda62a5-e3bc-41dd-b194-63d4e4660443",
   "metadata": {},
   "outputs": [],
   "source": [
    "def pad_16000(waveform, label):\n",
    "    zero_padding = tf.zeros([wave_length_samps] - tf.shape(waveform), dtype=tf.float32)\n",
    "    waveform = tf.concat([waveform, zero_padding], 0)        \n",
    "    return waveform, label"
   ]
  },
  {
   "cell_type": "code",
   "execution_count": null,
   "id": "40f07bfe-942f-47f9-bcd0-8b6f954a793f",
   "metadata": {},
   "outputs": [],
   "source": [
    "def count_labels(dataset):\n",
    "    counts = {}\n",
    "    for sample in dataset: # sample will be a tuple: (input, label) or (input, label, weight)\n",
    "        lbl = sample[1]\n",
    "        if lbl.dtype == tf.string:\n",
    "            label = lbl.numpy().decode('utf-8')\n",
    "        else:\n",
    "            label = lbl.numpy()\n",
    "        if label in counts:\n",
    "            counts[label] += 1\n",
    "        else:\n",
    "            counts[label] = 1\n",
    "    return counts"
   ]
  },
  {
   "cell_type": "code",
   "execution_count": null,
   "id": "d272bb70-0bb9-4703-a049-a2f836f6e1b5",
   "metadata": {},
   "outputs": [],
   "source": [
    "def is_batched(ds):\n",
    "    ## This is probably not very robust\n",
    "    try:\n",
    "        ds.unbatch()  # does not actually change ds. For that we would ds=ds.unbatch()\n",
    "    except:\n",
    "        return False # we'll assume that the error on unbatching is because the ds is not batched.\n",
    "    else:\n",
    "        return True  # if we were able to unbatch it then it must have been batched (??)"
   ]
  },
  {
   "cell_type": "code",
   "execution_count": null,
   "id": "c32630fa-f680-4795-8748-a33ea66fdc38",
   "metadata": {},
   "outputs": [],
   "source": [
    "# Collect what we did to generate the training dataset into a \n",
    "# function, so we can repeat with the validation and test sets.\n",
    "def preprocess_dataset(files, num_silent=None, noisy_reps_of_known=None):\n",
    "  \"\"\"\n",
    "  preprocess_dataset(files, num_silent=None, noisy_reps_of_known=None)\n",
    "  files -- list of files\n",
    "  noisy_reps_of_known either None, or a list of rms noise levels\n",
    "      For every target word in the data set, 1 copy will be created with each level \n",
    "      of noise added to it.  So [0.1, 0.2] will add 2x noisy copies of the target words \n",
    "  \"\"\"\n",
    "  if num_silent is None:\n",
    "    num_silent = int(0.2*len(files))+1\n",
    "  print(f\"Processing {len(files)} files\")\n",
    "  files_ds = tf.data.Dataset.from_tensor_slices(files)\n",
    "  waveform_ds = files_ds.map(get_waveform_and_label)\n",
    "  if noisy_reps_of_known is not None:\n",
    "    # create a few copies of only the target words to balance the distribution\n",
    "    # create a tmp dataset with only the target words\n",
    "    ds_only_cmds = waveform_ds.filter(lambda w,l: tf.reduce_any(l == commands))\n",
    "    for noise_level in noisy_reps_of_known:\n",
    "       waveform_ds = waveform_ds.concatenate(copy_with_noise(ds_only_cmds, rms_level=noise_level))\n",
    "  if num_silent > 0:\n",
    "    silent_wave_ds = create_silence_dataset(num_silent, wave_length_samps, \n",
    "                                            rms_noise_range=[0.01,0.2], \n",
    "                                            silent_label=silence_str)\n",
    "    waveform_ds = waveform_ds.concatenate(silent_wave_ds)\n",
    "  print(f\"Added {num_silent} silent wavs and ?? noisy wavs\")\n",
    "  num_waves = 0\n",
    "  output_ds = wavds2specds(waveform_ds)\n",
    "  return output_ds"
   ]
  },
  {
   "cell_type": "code",
   "execution_count": null,
   "id": "7bb3cf39-2682-4409-bdb0-32085d347da0",
   "metadata": {},
   "outputs": [
    {
     "name": "stdout",
     "output_type": "stream",
     "text": [
      "We have 7988/10581/11605 training/validation/test files\n"
     ]
    }
   ],
   "source": [
    "print(f\"We have {len(train_files)}/{len(val_files)}/{len(test_files)} training/validation/test files\")"
   ]
  },
  {
   "cell_type": "code",
   "execution_count": null,
   "id": "647f9475-5fcf-48f8-89bc-69f11732279a",
   "metadata": {},
   "outputs": [],
   "source": [
    "# train_files = train_files[0:10000] for a quick test run"
   ]
  },
  {
   "cell_type": "code",
   "execution_count": null,
   "id": "441b80a4-d363-4a44-9c41-ee459981c770",
   "metadata": {},
   "outputs": [
    {
     "name": "stdout",
     "output_type": "stream",
     "text": [
      "Processing 7988 files\n",
      "Added 1598 silent wavs and ?? noisy wavs\n",
      "About to create spectrograms from 73490 waves\n",
      " 73250 wavs processedProcessing 10581 files\n",
      "Added 2117 silent wavs and ?? noisy wavs\n",
      "About to create spectrograms from 12698 waves\n",
      " 12500 wavs processedProcessing 11605 files\n",
      "Added 2322 silent wavs and ?? noisy wavs\n",
      "About to create spectrograms from 13927 waves\n",
      " 13750 wavs processedTook time: 496.23173332214355\n"
     ]
    }
   ],
   "source": [
    "t0 = time.time()\n",
    "# train_ds is already done\n",
    "\n",
    "train_ds = preprocess_dataset(train_files, noisy_reps_of_known=[0.05,0.1,0.15,0.2,0.25, .1, .1, .1])\n",
    "\n",
    "val_ds = preprocess_dataset(val_files)\n",
    "test_ds = preprocess_dataset(test_files)\n",
    "t1 = time.time()\n",
    "print(f\"Took time: {t1-t0}\")"
   ]
  },
  {
   "cell_type": "code",
   "execution_count": null,
   "id": "b84078c4-6e45-4ae7-a95c-747911936113",
   "metadata": {},
   "outputs": [
    {
     "name": "stdout",
     "output_type": "stream",
     "text": [
      "Training dataset label distribution:\n",
      "imposter: 43686\n",
      "down: 28206\n",
      "_silence: 1598\n",
      "Validation dataset label distribution:\n",
      "_unknown: 9604\n",
      "_silence: 2117\n",
      "down: 377\n",
      "imposter: 600\n",
      "Test dataset label distribution:\n",
      "_unknown: 10599\n",
      "_silence: 2322\n",
      "imposter: 600\n",
      "down: 406\n"
     ]
    }
   ],
   "source": [
    "train_ds = train_ds.shuffle(int(len(train_files)*1.2))\n",
    "val_ds = val_ds.shuffle(int(len(val_files)*1.2))\n",
    "test_ds = test_ds.shuffle(int(len(test_files)*1.2))\n",
    "\n",
    "train_counts = count_labels(train_ds)\n",
    "valid_counts = count_labels(val_ds)\n",
    "test_counts = count_labels(test_ds)\n",
    "\n",
    "print(\"Training dataset label distribution:\")\n",
    "for idx in train_counts:\n",
    "    print(f\"{label_list[idx]}: {train_counts[idx]}\")\n",
    "\n",
    "print(\"Validation dataset label distribution:\")\n",
    "for idx in valid_counts:\n",
    "    print(f\"{label_list[idx]}: {valid_counts[idx]}\")\n",
    "\n",
    "print(\"Test dataset label distribution:\")\n",
    "for idx in test_counts:\n",
    "    print(f\"{label_list[idx]}: {test_counts[idx]}\")"
   ]
  },
  {
   "cell_type": "code",
   "execution_count": null,
   "id": "7560aba6-0a00-44f1-9a53-08f72b29ea10",
   "metadata": {},
   "outputs": [],
   "source": [
    "if not is_batched(train_ds):\n",
    "    train_ds = train_ds.batch(batch_size)\n",
    "if not is_batched(val_ds):\n",
    "    val_ds = val_ds.batch(batch_size)\n",
    "if not is_batched(test_ds):\n",
    "    test_ds = test_ds.batch(batch_size)\n",
    "\n",
    "train_ds = train_ds.cache().prefetch(AUTOTUNE)\n",
    "valid_ds = valid_ds.cache().prefetch(AUTOTUNE)\n",
    "test_ds = test_ds.cache().prefetch(AUTOTUNE)"
   ]
  },
  {
   "cell_type": "code",
   "execution_count": null,
   "id": "05f4e53f-152e-4f97-8ef6-8521a7510c6a",
   "metadata": {},
   "outputs": [
    {
     "name": "stdout",
     "output_type": "stream",
     "text": [
      "Input shape: (20, 32, 1)\n"
     ]
    }
   ],
   "source": [
    "for spectrogram, _ in train_ds.take(1):\n",
    "  # take(1) takes 1 *batch*, so we have to select the first \n",
    "  # spectrogram from it, hence the [0]\n",
    "  input_shape = spectrogram.shape[1:]  \n",
    "print('Input shape:', input_shape)\n",
    "num_labels = len(label_list)"
   ]
  },
  {
   "cell_type": "code",
   "execution_count": null,
   "id": "0617422e",
   "metadata": {},
   "outputs": [],
   "source": [
    "def ConvNet(input_shape):\n",
    "    model = models.Sequential([\n",
    "        layers.Input(shape=input_shape),\n",
    "        layers.Conv2D(32, 3, activation='relu'), # 32 filters, 3x3 kernel\n",
    "        layers.MaxPooling2D(pool_size=(2,2)),\n",
    "        layers.Dropout(0.1), # Dropout rate of <0.5 for input/output layers\n",
    "        layers.BatchNormalization(),\n",
    "      \n",
    "        layers.Conv2D(64, 3, activation='relu'), # 64 filters, 3x3 kernel\n",
    "        \n",
    "        layers.BatchNormalization(),\n",
    "      \n",
    "        layers.Conv2D(128, 3, activation='relu'), # 128 filters, 3x3 kernel\n",
    "        layers.BatchNormalization(),\n",
    "\n",
    "        layers.Conv2D(256, 3, activation='relu'), # 256 filters, 3x3 kernel\n",
    "        layers.BatchNormalization(),\n",
    "\n",
    "        layers.Conv2D(256, 3, activation='relu'), # 256 filters, 3x3 kernel\n",
    "        layers.BatchNormalization(),\n",
    "      \n",
    "        layers.GlobalMaxPooling2D(),\n",
    "        layers.Dropout(0.2),\n",
    "        layers.Flatten(),\n",
    "        layers.Dense(num_labels),\n",
    "    ])\n",
    "    # print(model.summary())\n",
    "    model.compile(\n",
    "        optimizer=tf.keras.optimizers.Adam(),\n",
    "        loss=tf.keras.losses.SparseCategoricalCrossentropy(from_logits=True),\n",
    "        metrics=['accuracy'],\n",
    "    )\n",
    "    return model"
   ]
  },
  {
   "cell_type": "code",
   "execution_count": null,
   "id": "10a14d43-9011-497f-9d23-ce11c9bf5a92",
   "metadata": {},
   "outputs": [],
   "source": [
    "def LSTMNet(input_shape):\n",
    "    model = models.Sequential([\n",
    "        layers.Input(shape=input_shape),\n",
    "        layers.LSTM(64, return_sequences=True),\n",
    "        layers.Dropout(0.2),\n",
    "        layers.LSTM(128),\n",
    "        layers.Dense(num_labels),\n",
    "    ])\n",
    "    model.compile(\n",
    "        optimizer=tf.keras.optimizers.Adam(),\n",
    "        loss=tf.keras.losses.SparseCategoricalCrossentropy(from_logits=True),\n",
    "        metrics=['accuracy'],\n",
    "    )\n",
    "    return model"
   ]
  },
  {
   "cell_type": "code",
   "execution_count": null,
   "id": "077fff30",
   "metadata": {},
   "outputs": [],
   "source": [
    "def Conv2Net(input_shape):\n",
    "    model = models.Sequential([\n",
    "        layers.Input(shape=input_shape),\n",
    "        layers.Conv2D(16, 5, activation='relu', padding='same'), # 32 filters, 3x3 kernel\n",
    "        layers.MaxPooling2D(pool_size=(2,2)),\n",
    "        layers.Dropout(0.1), # Dropout rate of <0.5 for input/output layers\n",
    "        layers.BatchNormalization(),\n",
    "      \n",
    "        layers.Conv2D(32, 3, strides = (3,1), activation='relu', padding='same'), # 64 filters, 3x3 kernel\n",
    "        layers.Dropout(0.2),\n",
    "        layers.BatchNormalization(),\n",
    "      \n",
    "        layers.Conv2D(64, 3, activation='relu', padding='same'), # 128 filters, 3x3 kernel\n",
    "        layers.Dropout(0.2),\n",
    "        layers.MaxPooling2D(pool_size=(2,2)),\n",
    "        layers.BatchNormalization(),\n",
    "\n",
    "        layers.Conv2D(128, 3, activation='relu', padding='same'), # 256 filters, 3x3 kernel\n",
    "        layers.Dropout(0.2),\n",
    "        layers.BatchNormalization(),\n",
    "\n",
    "        layers.Conv2D(128, 3, activation='relu', padding='same'), # 256 filters, 3x3 kernel\n",
    "        layers.Dropout(0.2),\n",
    "        layers.BatchNormalization(),\n",
    "\n",
    "        layers.Conv2D(128, 3, activation='relu', padding='same'), # 256 filters, 3x3 kernel\n",
    "        layers.BatchNormalization(),\n",
    "\n",
    "        layers.Dropout(0.2),\n",
    "        layers.Flatten(),\n",
    "        layers.Dense(num_labels),\n",
    "    ])\n",
    "    # print(model.summary())\n",
    "    model.compile(\n",
    "        optimizer=tf.keras.optimizers.Adam(),\n",
    "        loss=tf.keras.losses.SparseCategoricalCrossentropy(from_logits=True),\n",
    "        metrics=['accuracy'],\n",
    "    )\n",
    "    return model"
   ]
  },
  {
   "cell_type": "code",
   "execution_count": null,
   "id": "b53b830e-6ef5-4ed2-ac08-b422609d7cf6",
   "metadata": {},
   "outputs": [
    {
     "name": "stdout",
     "output_type": "stream",
     "text": [
      "Input shape: (20, 32, 1)\n"
     ]
    }
   ],
   "source": [
    "print('Input shape:', input_shape)\n",
    "conv1_model = ConvNet(input_shape)\n",
    "conv2_model = Conv2Net(input_shape)"
   ]
  },
  {
   "cell_type": "code",
   "execution_count": null,
   "id": "7d630965-cf3e-41ca-851b-33de49392cda",
   "metadata": {},
   "outputs": [
    {
     "name": "stdout",
     "output_type": "stream",
     "text": [
      "Epoch 1/50\n",
      "2297/2297 [==============================] - 15s 6ms/step - loss: 0.2216 - accuracy: 0.9109 - val_loss: 8.5295 - val_accuracy: 0.6435\n",
      "Epoch 2/50\n",
      "2297/2297 [==============================] - 13s 6ms/step - loss: 0.1399 - accuracy: 0.9419 - val_loss: 6.3538 - val_accuracy: 0.4272\n",
      "Epoch 3/50\n",
      "2297/2297 [==============================] - 13s 6ms/step - loss: 0.1115 - accuracy: 0.9549 - val_loss: 6.2871 - val_accuracy: 0.4589\n",
      "Epoch 4/50\n",
      "2297/2297 [==============================] - 13s 6ms/step - loss: 0.0881 - accuracy: 0.9641 - val_loss: 7.3824 - val_accuracy: 0.4474\n",
      "Epoch 5/50\n",
      "2297/2297 [==============================] - 13s 6ms/step - loss: 0.0690 - accuracy: 0.9733 - val_loss: 9.6174 - val_accuracy: 0.5264\n",
      "Epoch 6/50\n",
      "2297/2297 [==============================] - 13s 6ms/step - loss: 0.0521 - accuracy: 0.9801 - val_loss: 7.5471 - val_accuracy: 0.5994\n",
      "Epoch 7/50\n",
      "2297/2297 [==============================] - 13s 6ms/step - loss: 0.0408 - accuracy: 0.9853 - val_loss: 6.6927 - val_accuracy: 0.7092\n",
      "Epoch 8/50\n",
      "2297/2297 [==============================] - 13s 6ms/step - loss: 0.0352 - accuracy: 0.9872 - val_loss: 6.2766 - val_accuracy: 0.7115\n",
      "Epoch 9/50\n",
      "2297/2297 [==============================] - 13s 6ms/step - loss: 0.0333 - accuracy: 0.9880 - val_loss: 7.8065 - val_accuracy: 0.6706\n",
      "Epoch 10/50\n",
      "2297/2297 [==============================] - 13s 5ms/step - loss: 0.0255 - accuracy: 0.9911 - val_loss: 8.6856 - val_accuracy: 0.4488\n",
      "Epoch 11/50\n",
      "2297/2297 [==============================] - 13s 6ms/step - loss: 0.0212 - accuracy: 0.9926 - val_loss: 8.2189 - val_accuracy: 0.7134\n",
      "Epoch 12/50\n",
      "2297/2297 [==============================] - 13s 6ms/step - loss: 0.0206 - accuracy: 0.9930 - val_loss: 8.2094 - val_accuracy: 0.6119\n",
      "Epoch 13/50\n",
      "2297/2297 [==============================] - 13s 6ms/step - loss: 0.0213 - accuracy: 0.9928 - val_loss: 8.0067 - val_accuracy: 0.6881\n",
      "Epoch 14/50\n",
      "2297/2297 [==============================] - 13s 6ms/step - loss: 0.0184 - accuracy: 0.9942 - val_loss: 8.8746 - val_accuracy: 0.7023\n",
      "Epoch 15/50\n",
      "2297/2297 [==============================] - 13s 6ms/step - loss: 0.0147 - accuracy: 0.9947 - val_loss: 8.3058 - val_accuracy: 0.7005\n",
      "Epoch 16/50\n",
      "2297/2297 [==============================] - 13s 6ms/step - loss: 0.0126 - accuracy: 0.9954 - val_loss: 8.7564 - val_accuracy: 0.6996\n",
      "Epoch 17/50\n",
      "2297/2297 [==============================] - 13s 6ms/step - loss: 0.0153 - accuracy: 0.9950 - val_loss: 8.1287 - val_accuracy: 0.7088\n",
      "Epoch 18/50\n",
      "2297/2297 [==============================] - 13s 6ms/step - loss: 0.0125 - accuracy: 0.9957 - val_loss: 7.8438 - val_accuracy: 0.7092\n",
      "Epoch 19/50\n",
      "2297/2297 [==============================] - 13s 6ms/step - loss: 0.0109 - accuracy: 0.9963 - val_loss: 9.1954 - val_accuracy: 0.7129\n",
      "Epoch 20/50\n",
      "2297/2297 [==============================] - 13s 6ms/step - loss: 0.0116 - accuracy: 0.9961 - val_loss: 13.2175 - val_accuracy: 0.4442\n",
      "Epoch 21/50\n",
      "2297/2297 [==============================] - 13s 6ms/step - loss: 0.0111 - accuracy: 0.9963 - val_loss: 8.3937 - val_accuracy: 0.7069\n",
      "Epoch 22/50\n",
      "2297/2297 [==============================] - 13s 6ms/step - loss: 0.0096 - accuracy: 0.9967 - val_loss: 9.0274 - val_accuracy: 0.6876\n",
      "Epoch 23/50\n",
      "2297/2297 [==============================] - 13s 6ms/step - loss: 0.0092 - accuracy: 0.9971 - val_loss: 12.1626 - val_accuracy: 0.4446\n",
      "Epoch 24/50\n",
      "2297/2297 [==============================] - 13s 6ms/step - loss: 0.0094 - accuracy: 0.9969 - val_loss: 10.1970 - val_accuracy: 0.5296\n",
      "Epoch 25/50\n",
      "2297/2297 [==============================] - 13s 6ms/step - loss: 0.0086 - accuracy: 0.9972 - val_loss: 8.6182 - val_accuracy: 0.7065\n",
      "Epoch 26/50\n",
      "2297/2297 [==============================] - 13s 6ms/step - loss: 0.0098 - accuracy: 0.9967 - val_loss: 10.8252 - val_accuracy: 0.6403\n",
      "Epoch 27/50\n",
      "2297/2297 [==============================] - 13s 6ms/step - loss: 0.0077 - accuracy: 0.9977 - val_loss: 9.3041 - val_accuracy: 0.6867\n",
      "Epoch 28/50\n",
      "2297/2297 [==============================] - 13s 6ms/step - loss: 0.0073 - accuracy: 0.9977 - val_loss: 13.3249 - val_accuracy: 0.4469\n",
      "Epoch 29/50\n",
      "2297/2297 [==============================] - 13s 6ms/step - loss: 0.0089 - accuracy: 0.9970 - val_loss: 9.1619 - val_accuracy: 0.7069\n",
      "Epoch 30/50\n",
      "2297/2297 [==============================] - 13s 6ms/step - loss: 0.0072 - accuracy: 0.9977 - val_loss: 10.7347 - val_accuracy: 0.7152\n",
      "Epoch 31/50\n",
      "2297/2297 [==============================] - 13s 6ms/step - loss: 0.0063 - accuracy: 0.9978 - val_loss: 10.0368 - val_accuracy: 0.6968\n",
      "Epoch 32/50\n",
      "2297/2297 [==============================] - 13s 6ms/step - loss: 0.0075 - accuracy: 0.9975 - val_loss: 9.5584 - val_accuracy: 0.7083\n",
      "Epoch 33/50\n",
      "2297/2297 [==============================] - 13s 6ms/step - loss: 0.0063 - accuracy: 0.9979 - val_loss: 10.0201 - val_accuracy: 0.5609\n",
      "Epoch 34/50\n",
      "2297/2297 [==============================] - 13s 6ms/step - loss: 0.0062 - accuracy: 0.9981 - val_loss: 10.5216 - val_accuracy: 0.6523\n",
      "Epoch 35/50\n",
      "2297/2297 [==============================] - 13s 6ms/step - loss: 0.0063 - accuracy: 0.9978 - val_loss: 10.5237 - val_accuracy: 0.7193\n",
      "Epoch 36/50\n",
      "2297/2297 [==============================] - 13s 6ms/step - loss: 0.0062 - accuracy: 0.9981 - val_loss: 11.7755 - val_accuracy: 0.6922\n",
      "Epoch 37/50\n",
      "2297/2297 [==============================] - 13s 6ms/step - loss: 0.0067 - accuracy: 0.9977 - val_loss: 10.6582 - val_accuracy: 0.6403\n",
      "Epoch 38/50\n",
      "2297/2297 [==============================] - 13s 6ms/step - loss: 0.0055 - accuracy: 0.9981 - val_loss: 10.8514 - val_accuracy: 0.7106\n",
      "Epoch 39/50\n",
      "2297/2297 [==============================] - 13s 6ms/step - loss: 0.0057 - accuracy: 0.9981 - val_loss: 10.1147 - val_accuracy: 0.7033\n",
      "Epoch 40/50\n",
      "2297/2297 [==============================] - 13s 6ms/step - loss: 0.0046 - accuracy: 0.9984 - val_loss: 11.6131 - val_accuracy: 0.5172\n",
      "Epoch 41/50\n",
      "2297/2297 [==============================] - 13s 6ms/step - loss: 0.0062 - accuracy: 0.9978 - val_loss: 10.0368 - val_accuracy: 0.6743\n",
      "Epoch 42/50\n",
      "2297/2297 [==============================] - 13s 6ms/step - loss: 0.0055 - accuracy: 0.9983 - val_loss: 10.9386 - val_accuracy: 0.6495\n",
      "Epoch 43/50\n",
      "2297/2297 [==============================] - 13s 6ms/step - loss: 0.0052 - accuracy: 0.9983 - val_loss: 11.0616 - val_accuracy: 0.6504\n",
      "Epoch 44/50\n",
      "2297/2297 [==============================] - 13s 6ms/step - loss: 0.0049 - accuracy: 0.9983 - val_loss: 10.2259 - val_accuracy: 0.6918\n",
      "Epoch 45/50\n",
      "2297/2297 [==============================] - 13s 6ms/step - loss: 0.0050 - accuracy: 0.9985 - val_loss: 10.8582 - val_accuracy: 0.6477\n",
      "Epoch 46/50\n",
      "2297/2297 [==============================] - 13s 6ms/step - loss: 0.0049 - accuracy: 0.9984 - val_loss: 10.4739 - val_accuracy: 0.5664\n",
      "Epoch 47/50\n",
      "2297/2297 [==============================] - 13s 6ms/step - loss: 0.0061 - accuracy: 0.9980 - val_loss: 10.1573 - val_accuracy: 0.6863\n",
      "Epoch 48/50\n",
      "2297/2297 [==============================] - 13s 6ms/step - loss: 0.0037 - accuracy: 0.9989 - val_loss: 10.4558 - val_accuracy: 0.6458\n",
      "Epoch 49/50\n",
      "2297/2297 [==============================] - 13s 6ms/step - loss: 0.0045 - accuracy: 0.9985 - val_loss: 9.5007 - val_accuracy: 0.7102\n",
      "Epoch 50/50\n",
      "2297/2297 [==============================] - 13s 6ms/step - loss: 0.0036 - accuracy: 0.9987 - val_loss: 10.2193 - val_accuracy: 0.7092\n"
     ]
    }
   ],
   "source": [
    "conv_history = conv1_model.fit(\n",
    "    train_ds,\n",
    "    validation_data=balanced_valid_ds,\n",
    "    epochs=EPOCHS)"
   ]
  },
  {
   "cell_type": "code",
   "execution_count": null,
   "id": "1a1ed940",
   "metadata": {},
   "outputs": [
    {
     "name": "stdout",
     "output_type": "stream",
     "text": [
      "Epoch 1/50\n",
      "   1/2297 [..............................] - ETA: 13s - loss: 9.4296e-06 - accuracy: 1.0000"
     ]
    },
    {
     "name": "stdout",
     "output_type": "stream",
     "text": [
      "2297/2297 [==============================] - 13s 6ms/step - loss: 0.0058 - accuracy: 0.9984 - val_loss: 11.0696 - val_accuracy: 0.7152\n",
      "Epoch 2/50\n",
      "2297/2297 [==============================] - 13s 6ms/step - loss: 0.0040 - accuracy: 0.9988 - val_loss: 16.3365 - val_accuracy: 0.4446\n",
      "Epoch 3/50\n",
      "2297/2297 [==============================] - 13s 6ms/step - loss: 0.0044 - accuracy: 0.9986 - val_loss: 10.1637 - val_accuracy: 0.7051\n",
      "Epoch 4/50\n",
      "2297/2297 [==============================] - 13s 6ms/step - loss: 0.0045 - accuracy: 0.9988 - val_loss: 11.7139 - val_accuracy: 0.6123\n",
      "Epoch 5/50\n",
      "2297/2297 [==============================] - 13s 5ms/step - loss: 0.0049 - accuracy: 0.9985 - val_loss: 11.0454 - val_accuracy: 0.6523\n",
      "Epoch 6/50\n",
      "2297/2297 [==============================] - 13s 6ms/step - loss: 0.0028 - accuracy: 0.9991 - val_loss: 11.1711 - val_accuracy: 0.7175\n",
      "Epoch 7/50\n",
      "2297/2297 [==============================] - 13s 6ms/step - loss: 0.0040 - accuracy: 0.9988 - val_loss: 10.8612 - val_accuracy: 0.6339\n",
      "Epoch 8/50\n",
      "2297/2297 [==============================] - 13s 6ms/step - loss: 0.0033 - accuracy: 0.9987 - val_loss: 10.4045 - val_accuracy: 0.6164\n",
      "Epoch 9/50\n",
      "2297/2297 [==============================] - 13s 6ms/step - loss: 0.0036 - accuracy: 0.9990 - val_loss: 10.3274 - val_accuracy: 0.7124\n",
      "Epoch 10/50\n",
      "2297/2297 [==============================] - 13s 6ms/step - loss: 0.0036 - accuracy: 0.9989 - val_loss: 11.1622 - val_accuracy: 0.6734\n",
      "Epoch 11/50\n",
      "2297/2297 [==============================] - 13s 6ms/step - loss: 0.0050 - accuracy: 0.9984 - val_loss: 11.3266 - val_accuracy: 0.7010\n",
      "Epoch 12/50\n",
      "2297/2297 [==============================] - 13s 6ms/step - loss: 0.0039 - accuracy: 0.9988 - val_loss: 12.5283 - val_accuracy: 0.4832\n",
      "Epoch 13/50\n",
      "2297/2297 [==============================] - 13s 6ms/step - loss: 0.0035 - accuracy: 0.9989 - val_loss: 12.6427 - val_accuracy: 0.4745\n",
      "Epoch 14/50\n",
      "2297/2297 [==============================] - 13s 6ms/step - loss: 0.0038 - accuracy: 0.9988 - val_loss: 10.7831 - val_accuracy: 0.6826\n",
      "Epoch 15/50\n",
      "2297/2297 [==============================] - 13s 6ms/step - loss: 0.0028 - accuracy: 0.9990 - val_loss: 10.5330 - val_accuracy: 0.7184\n",
      "Epoch 16/50\n",
      "2297/2297 [==============================] - 13s 6ms/step - loss: 0.0044 - accuracy: 0.9988 - val_loss: 10.7169 - val_accuracy: 0.6789\n",
      "Epoch 17/50\n",
      "2297/2297 [==============================] - 13s 6ms/step - loss: 0.0028 - accuracy: 0.9990 - val_loss: 11.4624 - val_accuracy: 0.6913\n",
      "Epoch 18/50\n",
      "2297/2297 [==============================] - 13s 6ms/step - loss: 0.0033 - accuracy: 0.9989 - val_loss: 10.9310 - val_accuracy: 0.7065\n",
      "Epoch 19/50\n",
      "2297/2297 [==============================] - 13s 6ms/step - loss: 0.0039 - accuracy: 0.9987 - val_loss: 14.6503 - val_accuracy: 0.4557\n",
      "Epoch 20/50\n",
      "2297/2297 [==============================] - 13s 6ms/step - loss: 0.0032 - accuracy: 0.9990 - val_loss: 10.7259 - val_accuracy: 0.7000\n",
      "Epoch 21/50\n",
      "2297/2297 [==============================] - 13s 6ms/step - loss: 0.0030 - accuracy: 0.9990 - val_loss: 11.2060 - val_accuracy: 0.7042\n",
      "Epoch 22/50\n",
      "2297/2297 [==============================] - 13s 6ms/step - loss: 0.0040 - accuracy: 0.9988 - val_loss: 10.9115 - val_accuracy: 0.7023\n",
      "Epoch 23/50\n",
      "2297/2297 [==============================] - 13s 6ms/step - loss: 0.0033 - accuracy: 0.9990 - val_loss: 10.7117 - val_accuracy: 0.7074\n",
      "Epoch 24/50\n",
      "2297/2297 [==============================] - 13s 5ms/step - loss: 0.0029 - accuracy: 0.9990 - val_loss: 11.8979 - val_accuracy: 0.6890\n",
      "Epoch 25/50\n",
      "2297/2297 [==============================] - 13s 6ms/step - loss: 0.0037 - accuracy: 0.9990 - val_loss: 11.6043 - val_accuracy: 0.6385\n",
      "Epoch 26/50\n",
      "2297/2297 [==============================] - 13s 6ms/step - loss: 0.0022 - accuracy: 0.9992 - val_loss: 10.5074 - val_accuracy: 0.7138\n",
      "Epoch 27/50\n",
      "2297/2297 [==============================] - 13s 6ms/step - loss: 0.0031 - accuracy: 0.9990 - val_loss: 11.1696 - val_accuracy: 0.7203\n",
      "Epoch 28/50\n",
      "2297/2297 [==============================] - 13s 6ms/step - loss: 0.0029 - accuracy: 0.9991 - val_loss: 10.4646 - val_accuracy: 0.6977\n",
      "Epoch 29/50\n",
      "2297/2297 [==============================] - 13s 6ms/step - loss: 0.0026 - accuracy: 0.9993 - val_loss: 10.4365 - val_accuracy: 0.7193\n",
      "Epoch 30/50\n",
      "2297/2297 [==============================] - 13s 6ms/step - loss: 0.0026 - accuracy: 0.9993 - val_loss: 10.2035 - val_accuracy: 0.7051\n",
      "Epoch 31/50\n",
      "2297/2297 [==============================] - 13s 6ms/step - loss: 0.0029 - accuracy: 0.9992 - val_loss: 9.5962 - val_accuracy: 0.7097\n",
      "Epoch 32/50\n",
      "2297/2297 [==============================] - 13s 6ms/step - loss: 0.0028 - accuracy: 0.9992 - val_loss: 10.6812 - val_accuracy: 0.7166\n",
      "Epoch 33/50\n",
      "2297/2297 [==============================] - 13s 6ms/step - loss: 0.0033 - accuracy: 0.9989 - val_loss: 10.7900 - val_accuracy: 0.7014\n",
      "Epoch 34/50\n",
      "2297/2297 [==============================] - 13s 6ms/step - loss: 0.0023 - accuracy: 0.9993 - val_loss: 11.1820 - val_accuracy: 0.6876\n",
      "Epoch 35/50\n",
      "2297/2297 [==============================] - 13s 6ms/step - loss: 0.0034 - accuracy: 0.9988 - val_loss: 11.5507 - val_accuracy: 0.6886\n",
      "Epoch 36/50\n",
      "2297/2297 [==============================] - 13s 6ms/step - loss: 0.0035 - accuracy: 0.9990 - val_loss: 11.3032 - val_accuracy: 0.6964\n",
      "Epoch 37/50\n",
      "2297/2297 [==============================] - 13s 6ms/step - loss: 0.0021 - accuracy: 0.9993 - val_loss: 21.2540 - val_accuracy: 0.4424\n",
      "Epoch 38/50\n",
      "2297/2297 [==============================] - 13s 6ms/step - loss: 0.0028 - accuracy: 0.9991 - val_loss: 10.5061 - val_accuracy: 0.6835\n",
      "Epoch 39/50\n",
      "2297/2297 [==============================] - 13s 6ms/step - loss: 0.0028 - accuracy: 0.9991 - val_loss: 10.7355 - val_accuracy: 0.7088\n",
      "Epoch 40/50\n",
      "2297/2297 [==============================] - 13s 6ms/step - loss: 0.0021 - accuracy: 0.9993 - val_loss: 10.2025 - val_accuracy: 0.7207\n",
      "Epoch 41/50\n",
      "2297/2297 [==============================] - 13s 6ms/step - loss: 0.0021 - accuracy: 0.9994 - val_loss: 15.3965 - val_accuracy: 0.4561\n",
      "Epoch 42/50\n",
      "2297/2297 [==============================] - 13s 6ms/step - loss: 0.0029 - accuracy: 0.9991 - val_loss: 10.9094 - val_accuracy: 0.7060\n",
      "Epoch 43/50\n",
      "2297/2297 [==============================] - 13s 6ms/step - loss: 0.0029 - accuracy: 0.9992 - val_loss: 12.6748 - val_accuracy: 0.5443\n",
      "Epoch 44/50\n",
      "2297/2297 [==============================] - 13s 6ms/step - loss: 0.0033 - accuracy: 0.9990 - val_loss: 11.4534 - val_accuracy: 0.6472\n",
      "Epoch 45/50\n",
      "2297/2297 [==============================] - 13s 6ms/step - loss: 0.0030 - accuracy: 0.9992 - val_loss: 11.6338 - val_accuracy: 0.6973\n",
      "Epoch 46/50\n",
      "2297/2297 [==============================] - 13s 6ms/step - loss: 0.0026 - accuracy: 0.9992 - val_loss: 11.2945 - val_accuracy: 0.7097\n",
      "Epoch 47/50\n",
      "2297/2297 [==============================] - 13s 6ms/step - loss: 0.0033 - accuracy: 0.9990 - val_loss: 11.1352 - val_accuracy: 0.7106\n",
      "Epoch 48/50\n",
      "2297/2297 [==============================] - 13s 5ms/step - loss: 0.0032 - accuracy: 0.9991 - val_loss: 13.4044 - val_accuracy: 0.4874\n",
      "Epoch 49/50\n",
      "2297/2297 [==============================] - 13s 6ms/step - loss: 0.0018 - accuracy: 0.9994 - val_loss: 11.4484 - val_accuracy: 0.7134\n",
      "Epoch 50/50\n",
      "2297/2297 [==============================] - 13s 6ms/step - loss: 0.0023 - accuracy: 0.9993 - val_loss: 23.0576 - val_accuracy: 0.4345\n"
     ]
    }
   ],
   "source": [
    "conv2_history = conv1_model.fit(\n",
    "    train_ds,\n",
    "    validation_data=balanced_valid_ds,\n",
    "    epochs=EPOCHS)"
   ]
  },
  {
   "cell_type": "code",
   "execution_count": null,
   "id": "1bb0380f",
   "metadata": {},
   "outputs": [],
   "source": [
    "def calculate_sparsity(model):\n",
    "    sparsity = []\n",
    "    for layer in model.layers:\n",
    "        if isinstance(layer, layers.Conv2D) or isinstance(layer, layers.Dense):\n",
    "            weights = layer.get_weights()[0]\n",
    "            threshold = 0.01 * np.max(np.abs(weights))\n",
    "            sparsity.append(np.sum(np.abs(weights) < threshold) / weights.size)\n",
    "    return sparsity\n",
    "\n",
    "# sparsity_no_reg = calculate_sparsity(model)\n",
    "# sparsity_l1 = calculate_sparsity(model_l1)\n",
    "# sparsity_l2 = calculate_sparsity(model_l2)\n",
    "\n",
    "# print(sparsity_no_reg)\n",
    "# print(sparsity_l1)\n",
    "# print(sparsity_l2)"
   ]
  },
  {
   "cell_type": "code",
   "execution_count": null,
   "id": "2673e263-95e5-4017-89aa-ef15edc9d9c4",
   "metadata": {},
   "outputs": [
    {
     "name": "stdout",
     "output_type": "stream",
     "text": [
      "Completed training at 26apr2024_1539\n"
     ]
    }
   ],
   "source": [
    "date_str = dt.now().strftime(\"%d%b%Y_%H%M\").lower()\n",
    "print(f\"Completed training at {date_str}\")"
   ]
  },
  {
   "cell_type": "code",
   "execution_count": null,
   "id": "87804c57-0919-4726-88a3-477e4d3dc8d0",
   "metadata": {},
   "outputs": [
    {
     "name": "stdout",
     "output_type": "stream",
     "text": [
      "Saving model to kws_model.h5\n"
     ]
    }
   ],
   "source": [
    "model_file_name = f\"kws_model.h5\" \n",
    "print(f\"Saving model to {model_file_name}\")\n",
    "conv2_model.save(model_file_name, overwrite=True)"
   ]
  },
  {
   "cell_type": "code",
   "execution_count": null,
   "id": "b40f2828-ac56-4cc5-b041-ec34ea8f9e89",
   "metadata": {},
   "outputs": [
    {
     "ename": "ValueError",
     "evalue": "setting an array element with a sequence. The requested array has an inhomogeneous shape after 1 dimensions. The detected shape was (69,) + inhomogeneous part.",
     "output_type": "error",
     "traceback": [
      "\u001b[1;31m---------------------------------------------------------------------------\u001b[0m",
      "\u001b[1;31mValueError\u001b[0m                                Traceback (most recent call last)",
      "Cell \u001b[1;32mIn[242], line 13\u001b[0m\n\u001b[0;32m     10\u001b[0m   test_audio\u001b[38;5;241m.\u001b[39mappend(audio\u001b[38;5;241m.\u001b[39mnumpy())\n\u001b[0;32m     11\u001b[0m   test_labels\u001b[38;5;241m.\u001b[39mappend(label\u001b[38;5;241m.\u001b[39mnumpy())\n\u001b[1;32m---> 13\u001b[0m test_audio \u001b[38;5;241m=\u001b[39m \u001b[43mnp\u001b[49m\u001b[38;5;241;43m.\u001b[39;49m\u001b[43marray\u001b[49m\u001b[43m(\u001b[49m\u001b[43mtest_audio\u001b[49m\u001b[43m)\u001b[49m\n\u001b[0;32m     14\u001b[0m test_labels \u001b[38;5;241m=\u001b[39m np\u001b[38;5;241m.\u001b[39marray(test_labels)\n\u001b[0;32m     16\u001b[0m model_out \u001b[38;5;241m=\u001b[39m conv2_model\u001b[38;5;241m.\u001b[39mpredict(test_audio)\n",
      "\u001b[1;31mValueError\u001b[0m: setting an array element with a sequence. The requested array has an inhomogeneous shape after 1 dimensions. The detected shape was (69,) + inhomogeneous part."
     ]
    }
   ],
   "source": [
    "## Measure test-set accuracy manually and get values for confusion matrix\n",
    "test_audio = []\n",
    "test_labels = []\n",
    "if is_batched(balanced_test_ds):\n",
    "  was_batched=True\n",
    "  test_ds = balanced_test_ds.unbatch()\n",
    "else:\n",
    "  was_batched=False\n",
    "for audio, label in balanced_test_ds:\n",
    "  test_audio.append(audio.numpy())\n",
    "  test_labels.append(label.numpy())\n",
    "\n",
    "test_audio = np.array(test_audio)\n",
    "test_labels = np.array(test_labels)\n",
    "\n",
    "model_out = conv2_model.predict(test_audio)\n",
    "y_pred = np.argmax(model_out, axis=1)\n",
    "y_true = test_labels\n",
    "\n",
    "test_acc = sum(y_pred == y_true) / len(y_true)\n",
    "print(f'Test set accuracy: {test_acc:.1%}')\n",
    "if was_batched:\n",
    "  test_ds = test_ds.batch(32)"
   ]
  },
  {
   "cell_type": "code",
   "execution_count": null,
   "id": "1977d96d-a20f-4213-8f81-9101bebe1b0e",
   "metadata": {},
   "outputs": [
    {
     "ename": "ValueError",
     "evalue": "in user code:\n\n    File \"c:\\Users\\aidan_000\\anaconda3\\envs\\tensorflow_env\\lib\\site-packages\\keras\\engine\\training.py\", line 1727, in test_function  *\n        return step_function(self, iterator)\n    File \"c:\\Users\\aidan_000\\anaconda3\\envs\\tensorflow_env\\lib\\site-packages\\keras\\engine\\training.py\", line 1713, in step_function  **\n        outputs = model.distribute_strategy.run(run_step, args=(data,))\n    File \"c:\\Users\\aidan_000\\anaconda3\\envs\\tensorflow_env\\lib\\site-packages\\keras\\engine\\training.py\", line 1701, in run_step  **\n        outputs = model.test_step(data)\n    File \"c:\\Users\\aidan_000\\anaconda3\\envs\\tensorflow_env\\lib\\site-packages\\keras\\engine\\training.py\", line 1665, in test_step\n        y_pred = self(x, training=False)\n    File \"c:\\Users\\aidan_000\\anaconda3\\envs\\tensorflow_env\\lib\\site-packages\\keras\\utils\\traceback_utils.py\", line 70, in error_handler\n        raise e.with_traceback(filtered_tb) from None\n    File \"c:\\Users\\aidan_000\\anaconda3\\envs\\tensorflow_env\\lib\\site-packages\\keras\\engine\\input_spec.py\", line 295, in assert_input_compatibility\n        raise ValueError(\n\n    ValueError: Input 0 of layer \"sequential_39\" is incompatible with the layer: expected shape=(None, 20, 32, 1), found shape=(20, 32, 1)\n",
     "output_type": "error",
     "traceback": [
      "\u001b[1;31m---------------------------------------------------------------------------\u001b[0m",
      "\u001b[1;31mValueError\u001b[0m                                Traceback (most recent call last)",
      "Cell \u001b[1;32mIn[421], line 2\u001b[0m\n\u001b[0;32m      1\u001b[0m \u001b[38;5;66;03m## Measure test-set accuracy with the keras built-in function\u001b[39;00m\n\u001b[1;32m----> 2\u001b[0m test_loss, test_acc \u001b[38;5;241m=\u001b[39m \u001b[43mconv2_model\u001b[49m\u001b[38;5;241;43m.\u001b[39;49m\u001b[43mevaluate\u001b[49m\u001b[43m(\u001b[49m\u001b[43mtest_ds\u001b[49m\u001b[43m,\u001b[49m\u001b[43m \u001b[49m\u001b[43mverbose\u001b[49m\u001b[38;5;241;43m=\u001b[39;49m\u001b[38;5;241;43m2\u001b[39;49m\u001b[43m)\u001b[49m\n",
      "File \u001b[1;32mc:\\Users\\aidan_000\\anaconda3\\envs\\tensorflow_env\\lib\\site-packages\\keras\\utils\\traceback_utils.py:70\u001b[0m, in \u001b[0;36mfilter_traceback.<locals>.error_handler\u001b[1;34m(*args, **kwargs)\u001b[0m\n\u001b[0;32m     67\u001b[0m     filtered_tb \u001b[38;5;241m=\u001b[39m _process_traceback_frames(e\u001b[38;5;241m.\u001b[39m__traceback__)\n\u001b[0;32m     68\u001b[0m     \u001b[38;5;66;03m# To get the full stack trace, call:\u001b[39;00m\n\u001b[0;32m     69\u001b[0m     \u001b[38;5;66;03m# `tf.debugging.disable_traceback_filtering()`\u001b[39;00m\n\u001b[1;32m---> 70\u001b[0m     \u001b[38;5;28;01mraise\u001b[39;00m e\u001b[38;5;241m.\u001b[39mwith_traceback(filtered_tb) \u001b[38;5;28;01mfrom\u001b[39;00m \u001b[38;5;28;01mNone\u001b[39;00m\n\u001b[0;32m     71\u001b[0m \u001b[38;5;28;01mfinally\u001b[39;00m:\n\u001b[0;32m     72\u001b[0m     \u001b[38;5;28;01mdel\u001b[39;00m filtered_tb\n",
      "File \u001b[1;32m~\\AppData\\Local\\Temp\\__autograph_generated_file7423madn.py:15\u001b[0m, in \u001b[0;36mouter_factory.<locals>.inner_factory.<locals>.tf__test_function\u001b[1;34m(iterator)\u001b[0m\n\u001b[0;32m     13\u001b[0m \u001b[38;5;28;01mtry\u001b[39;00m:\n\u001b[0;32m     14\u001b[0m     do_return \u001b[38;5;241m=\u001b[39m \u001b[38;5;28;01mTrue\u001b[39;00m\n\u001b[1;32m---> 15\u001b[0m     retval_ \u001b[38;5;241m=\u001b[39m ag__\u001b[38;5;241m.\u001b[39mconverted_call(ag__\u001b[38;5;241m.\u001b[39mld(step_function), (ag__\u001b[38;5;241m.\u001b[39mld(\u001b[38;5;28mself\u001b[39m), ag__\u001b[38;5;241m.\u001b[39mld(iterator)), \u001b[38;5;28;01mNone\u001b[39;00m, fscope)\n\u001b[0;32m     16\u001b[0m \u001b[38;5;28;01mexcept\u001b[39;00m:\n\u001b[0;32m     17\u001b[0m     do_return \u001b[38;5;241m=\u001b[39m \u001b[38;5;28;01mFalse\u001b[39;00m\n",
      "\u001b[1;31mValueError\u001b[0m: in user code:\n\n    File \"c:\\Users\\aidan_000\\anaconda3\\envs\\tensorflow_env\\lib\\site-packages\\keras\\engine\\training.py\", line 1727, in test_function  *\n        return step_function(self, iterator)\n    File \"c:\\Users\\aidan_000\\anaconda3\\envs\\tensorflow_env\\lib\\site-packages\\keras\\engine\\training.py\", line 1713, in step_function  **\n        outputs = model.distribute_strategy.run(run_step, args=(data,))\n    File \"c:\\Users\\aidan_000\\anaconda3\\envs\\tensorflow_env\\lib\\site-packages\\keras\\engine\\training.py\", line 1701, in run_step  **\n        outputs = model.test_step(data)\n    File \"c:\\Users\\aidan_000\\anaconda3\\envs\\tensorflow_env\\lib\\site-packages\\keras\\engine\\training.py\", line 1665, in test_step\n        y_pred = self(x, training=False)\n    File \"c:\\Users\\aidan_000\\anaconda3\\envs\\tensorflow_env\\lib\\site-packages\\keras\\utils\\traceback_utils.py\", line 70, in error_handler\n        raise e.with_traceback(filtered_tb) from None\n    File \"c:\\Users\\aidan_000\\anaconda3\\envs\\tensorflow_env\\lib\\site-packages\\keras\\engine\\input_spec.py\", line 295, in assert_input_compatibility\n        raise ValueError(\n\n    ValueError: Input 0 of layer \"sequential_39\" is incompatible with the layer: expected shape=(None, 20, 32, 1), found shape=(20, 32, 1)\n"
     ]
    }
   ],
   "source": [
    "## Measure test-set accuracy with the keras built-in function\n",
    "test_loss, test_acc = conv2_model.evaluate(test_ds, verbose=2)"
   ]
  },
  {
   "cell_type": "code",
   "execution_count": null,
   "id": "379ab7a2-eae3-40ad-bd0a-2ffc0e0a02e1",
   "metadata": {},
   "outputs": [
    {
     "data": {
      "image/png": "[encoded data removed]",
      "text/plain": [
       "<Figure size 600x600 with 2 Axes>"
      ]
     },
     "metadata": {},
     "output_type": "display_data"
    }
   ],
   "source": [
    "confusion_mtx = tf.math.confusion_matrix(y_true, y_pred) \n",
    "plt.figure(figsize=(6, 6))\n",
    "sns.heatmap(confusion_mtx, xticklabels=label_list, yticklabels=label_list, \n",
    "            annot=True, fmt='g')\n",
    "plt.gca().invert_yaxis() # flip so origin is at bottom left\n",
    "plt.xlabel('Prediction')\n",
    "plt.ylabel('Label')\n",
    "plt.show()"
   ]
  },
  {
   "cell_type": "code",
   "execution_count": null,
   "id": "2677a670-093d-45b9-8ec4-efad861ae088",
   "metadata": {},
   "outputs": [
    {
     "name": "stdout",
     "output_type": "stream",
     "text": [
      "True/False positive rate for '_silence ' = 0.0 / 0.00112\n",
      "False negative rate for '_silence ' = 1.0\n",
      "True/False positive rate for '_unknown ' = 0.07 / 0.0346\n",
      "False negative rate for '_unknown ' = 0.93\n",
      "True/False positive rate for 'imposter ' = 0.327 / 0.608\n",
      "False negative rate for 'imposter ' = 0.673\n",
      "True/False positive rate for 'down     ' = 0.121 / 0.348\n",
      "False negative rate for 'down     ' = 0.879\n"
     ]
    }
   ],
   "source": [
    "tpr = np.nan*np.zeros(len(label_list))\n",
    "fpr = np.nan*np.zeros(len(label_list))\n",
    "fnr = np.nan*np.zeros(len(label_list))\n",
    "\n",
    "for i in range(4):\n",
    "    tpr[i]  = confusion_mtx[i,i] / np.sum(confusion_mtx[i,:])\n",
    "    fpr[i] = (np.sum(confusion_mtx[:,i]) - confusion_mtx[i,i]) / \\\n",
    "      (np.sum(confusion_mtx) - np.sum(confusion_mtx[i,:]))\n",
    "    fnr[i]  = (np.sum(confusion_mtx[i,:]) - confusion_mtx[i,i]) / np.sum(confusion_mtx[i,:])\n",
    "    print(f\"True/False positive rate for '{label_list[i]:9}' = {tpr[i]:.3} / {fpr[i]:.3}\")\n",
    "    print(f\"False negative rate for '{label_list[i]:9}' = {fnr[i]:.3}\")"
   ]
  },
  {
   "cell_type": "code",
   "execution_count": null,
   "id": "8134dd39-a8b6-45bd-a0e2-0f025c461e36",
   "metadata": {},
   "outputs": [],
   "source": [
    "info_file_name = model_file_name.split('.')[0] + '.txt'\n",
    "with open(info_file_name, 'w') as fpo:\n",
    "    fpo.write(f\"i16min            = {i16min           }\\n\")\n",
    "    fpo.write(f\"i16max            = {i16max           }\\n\")\n",
    "    fpo.write(f\"fsamp             = {fsamp            }\\n\")\n",
    "    fpo.write(f\"wave_length_ms    = {wave_length_ms   }\\n\")\n",
    "    fpo.write(f\"wave_length_samps = {wave_length_samps}\\n\")\n",
    "    fpo.write(f\"window_size_ms    = {window_size_ms   }\\n\")\n",
    "    fpo.write(f\"window_step_ms    = {window_step_ms   }\\n\")\n",
    "    fpo.write(f\"num_filters       = {num_filters      }\\n\")\n",
    "    fpo.write(f\"use_microfrontend = {use_microfrontend}\\n\")\n",
    "    fpo.write(f\"label_list        = {label_list}\\n\")\n",
    "    fpo.write(f\"spectrogram_shape = {spectrogram.numpy().shape}\\n\")\n",
    "    fpo.write(f\"Test set accuracy =  {test_acc:.1%}\\n\")\n",
    "    for i in range(4):\n",
    "        fpo.write(f\"tpr_{label_list[i]:9} = {tpr[i]:.3}\\n\")\n",
    "        fpo.write(f\"fpr_{label_list[i]:9} = {fpr[i]:.3}\\n\")"
   ]
  },
  {
   "cell_type": "code",
   "execution_count": null,
   "id": "61dc3596-f01b-423b-b02c-c121fd3cfba1",
   "metadata": {},
   "outputs": [
    {
     "name": "stdout",
     "output_type": "stream",
     "text": [
      "Wrote description to kws_model.txt\n"
     ]
    }
   ],
   "source": [
    "print(f\"Wrote description to {info_file_name}\")"
   ]
  },
  {
   "cell_type": "code",
   "execution_count": null,
   "id": "6d948d40-b6b0-4338-bc25-df52d37c7db7",
   "metadata": {},
   "outputs": [
    {
     "data": {
      "image/png": "[encoded data removed]",
      "text/plain": [
       "<Figure size 640x480 with 2 Axes>"
      ]
     },
     "metadata": {},
     "output_type": "display_data"
    },
    {
     "data": {
      "text/plain": [
       "<Figure size 640x480 with 0 Axes>"
      ]
     },
     "metadata": {},
     "output_type": "display_data"
    }
   ],
   "source": [
    "metrics = conv_history.history\n",
    "plt.subplot(2,1,1)\n",
    "plt.semilogy(conv_history.epoch, metrics['loss'], metrics['val_loss'])\n",
    "plt.legend(['training', 'validation'])\n",
    "plt.ylabel('Loss')\n",
    "plt.xlabel('Epoch')\n",
    "plt.subplot(2,1,2)\n",
    "plt.plot(conv_history.epoch, metrics['accuracy'], metrics['val_accuracy'])\n",
    "plt.legend(['training', 'validation'])\n",
    "plt.ylabel('Accuracy')\n",
    "plt.xlabel('Epoch')\n",
    "plt.show()\n",
    "plt.savefig('training_curves.png')"
   ]
  },
  {
   "cell_type": "code",
   "execution_count": null,
   "id": "f58f6e48-ce35-4f5d-be78-60abc58de3dd",
   "metadata": {},
   "outputs": [
    {
     "name": "stdout",
     "output_type": "stream",
     "text": [
      "ds_labels[0] = 1\n",
      "<class 'list'>\n",
      "436/436 [==============================] - 1s 2ms/step\n"
     ]
    },
    {
     "data": {
      "image/png": "[encoded data removed]",
      "text/plain": [
       "<Figure size 500x400 with 2 Axes>"
      ]
     },
     "metadata": {},
     "output_type": "display_data"
    },
    {
     "data": {
      "text/plain": [
       "<Figure size 640x480 with 0 Axes>"
      ]
     },
     "metadata": {},
     "output_type": "display_data"
    }
   ],
   "source": [
    "def get_confusion_matrix(dset, model):\n",
    "    # there is probably a cleaner way to do this using y_pred = model.predict(dset)\n",
    "    ds_audio = []\n",
    "    ds_labels = []\n",
    "\n",
    "    if is_batched(dset):\n",
    "      dset = dset.unbatch()\n",
    "  \n",
    "    for sample in dset:\n",
    "      audio, label = sample[0], sample[1]\n",
    "      ds_audio.append(audio.numpy())\n",
    "      ds_labels.append(label.numpy())\n",
    "\n",
    "    print(f\"ds_labels[0] = {ds_labels[0]}\")\n",
    "    print(type(ds_labels))\n",
    "\n",
    "    ds_labels = np.array(ds_labels)\n",
    "    ds_audio = np.array(ds_audio)\n",
    "\n",
    "    model_out = model.predict(ds_audio)\n",
    "    y_pred = np.argmax(model_out, axis=1)\n",
    "    y_true = ds_labels\n",
    "\n",
    "    # ds_acc = sum(y_pred == y_true) / len(y_true)\n",
    "    confusion_mtx = tf.math.confusion_matrix(y_true, y_pred) \n",
    "    return confusion_mtx\n",
    "\n",
    "# print(f'Data set accuracy: {ds_acc:.0%}')\n",
    "\n",
    "confusion_mtx = get_confusion_matrix(test_ds, conv_model)\n",
    "plt.figure(figsize=(5,4))\n",
    "sns.heatmap(confusion_mtx, xticklabels=label_list, yticklabels=label_list, \n",
    "            annot=True, fmt='g')\n",
    "plt.xlabel('Prediction')\n",
    "plt.ylabel('Label')\n",
    "plt.show()\n",
    "plt.savefig('test_set_confusion_matrix.png')\n"
   ]
  }
 ],
 "metadata": {
  "kernelspec": {
   "display_name": "Python 3 (ipykernel)",
   "language": "python",
   "name": "python3"
  },
  "language_info": {
   "codemirror_mode": {
    "name": "ipython",
    "version": 3
   },
   "file_extension": ".py",
   "mimetype": "text/x-python",
   "name": "python",
   "nbconvert_exporter": "python",
   "pygments_lexer": "ipython3",
   "version": "3.10.13"
  }
 },
 "nbformat": 4,
 "nbformat_minor": 5
}
